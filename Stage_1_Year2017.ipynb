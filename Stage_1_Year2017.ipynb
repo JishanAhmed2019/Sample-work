{
  "nbformat": 4,
  "nbformat_minor": 0,
  "metadata": {
    "kernelspec": {
      "display_name": "Python 3",
      "language": "python",
      "name": "python3"
    },
    "language_info": {
      "codemirror_mode": {
        "name": "ipython",
        "version": 3
      },
      "file_extension": ".py",
      "mimetype": "text/x-python",
      "name": "python",
      "nbconvert_exporter": "python",
      "pygments_lexer": "ipython3",
      "version": "3.8.5"
    },
    "colab": {
      "name": "Stage_0_Year2017.ipynb",
      "provenance": [],
      "collapsed_sections": []
    }
  },
  "cells": [
    {
      "cell_type": "markdown",
      "metadata": {
        "id": "VxI6Dg88koUe"
      },
      "source": [
        "## Hard Drive Failure Prediction: Backblaze Data Center\n",
        "### Stage 1: Model Building using model ST4000DM000 for year 2017"
      ]
    },
    {
      "cell_type": "code",
      "metadata": {
        "id": "YggATO9akoUn"
      },
      "source": [
        "import requests\n",
        "import os\n",
        "import time"
      ],
      "execution_count": null,
      "outputs": []
    },
    {
      "cell_type": "code",
      "metadata": {
        "id": "tSGmWxDfkoUp",
        "outputId": "796595a7-c05b-4a3e-d4a7-a84421aff60e"
      },
      "source": [
        "os.getcwd() #Intial data root"
      ],
      "execution_count": null,
      "outputs": [
        {
          "output_type": "execute_result",
          "data": {
            "text/plain": [
              "'C:\\\\Users\\\\jahmed'"
            ]
          },
          "metadata": {
            "tags": []
          },
          "execution_count": 2
        }
      ]
    },
    {
      "cell_type": "code",
      "metadata": {
        "id": "5UvXxdT9koUr"
      },
      "source": [
        "os.chdir('C:\\\\Users\\\\jahmed\\Desktop\\\\Jishan\\PhDResearch\\\\Code')"
      ],
      "execution_count": null,
      "outputs": []
    },
    {
      "cell_type": "code",
      "metadata": {
        "id": "9AteGYuJkoUr",
        "outputId": "287a64af-1166-410b-b1a2-c55d3ffb2a24"
      },
      "source": [
        "os.getcwd() #Intial data root"
      ],
      "execution_count": null,
      "outputs": [
        {
          "output_type": "execute_result",
          "data": {
            "text/plain": [
              "'C:\\\\Users\\\\jahmed\\\\Desktop\\\\Jishan\\\\PhDResearch\\\\Code'"
            ]
          },
          "metadata": {
            "tags": []
          },
          "execution_count": 4
        }
      ]
    },
    {
      "cell_type": "markdown",
      "metadata": {
        "id": "3t02lVDfmGfd"
      },
      "source": [
        "### Required packages"
      ]
    },
    {
      "cell_type": "code",
      "metadata": {
        "id": "Z3l_sL8UkoUt"
      },
      "source": [
        "%matplotlib inline\n",
        "#plt.style.use('seaborn')\n",
        "import pandas as pd\n",
        "import numpy as np\n",
        "import seaborn as sns\n",
        "import matplotlib.pyplot as plt\n",
        "import glob\n",
        "import os\n",
        "import pickle\n",
        "\n",
        "#set matplotlib parameters\n",
        "\n",
        "sns.set_style('white')\n",
        "plt.rcParams['axes.grid'] = True\n",
        "plt.rc('xtick', labelsize=12)\n",
        "plt.rc('ytick', labelsize=12)\n",
        "plt.rcParams['axes.labelsize'] = 15\n",
        "plt.rcParams['grid.linestyle'] = ':'\n",
        "plt.rcParams['grid.linewidth'] = 0.8\n",
        "plt.rcParams['grid.color'] = 'k'\n",
        "plt.rcParams['xtick.direction'] = 'in'\n",
        "plt.rcParams['ytick.direction'] = 'in'\n",
        "plt.rcParams['xtick.top'] = True\n",
        "plt.rcParams['ytick.right'] = True\n",
        "plt.rcParams['xtick.bottom'] = True\n",
        "plt.rcParams['ytick.left'] = True"
      ],
      "execution_count": null,
      "outputs": []
    },
    {
      "cell_type": "code",
      "metadata": {
        "id": "E3IekpoZkoVT"
      },
      "source": [
        "#import tensorflow as tf\n",
        "from tensorflow import keras\n",
        "\n",
        "import os\n",
        "import tempfile\n",
        "\n",
        "import matplotlib as mpl\n",
        "import matplotlib.pyplot as plt\n",
        "import numpy as np\n",
        "import pandas as pd\n",
        "import seaborn as sns\n",
        "\n",
        "import sklearn\n",
        "from sklearn.metrics import confusion_matrix\n",
        "from sklearn.model_selection import train_test_split\n",
        "from sklearn.preprocessing import StandardScaler"
      ],
      "execution_count": null,
      "outputs": []
    },
    {
      "cell_type": "code",
      "metadata": {
        "id": "scdsfuqDkoVT"
      },
      "source": [
        "# import needed libraries and get data from external\n",
        "import pandas as pd\n",
        "import numpy as np\n",
        "from numpy import NaN, NAN, nan\n",
        "import matplotlib.pyplot as plt\n",
        "import seaborn as sns\n",
        "import statsmodels.api as sm\n",
        "import statsmodels.formula.api as smf\n",
        "from sklearn.metrics import roc_auc_score, accuracy_score, precision_score, recall_score, f1_score\n",
        "from sklearn.linear_model import LogisticRegression\n",
        "from sklearn.tree import DecisionTreeClassifier\n",
        "from sklearn.svm import SVC\n",
        "from sklearn.ensemble import RandomForestClassifier\n",
        "from sklearn.discriminant_analysis import LinearDiscriminantAnalysis, QuadraticDiscriminantAnalysis\n",
        "from sklearn.cluster import KMeans\n",
        "from sklearn.neighbors import KNeighborsClassifier\n",
        "from sklearn.naive_bayes import GaussianNB\n",
        "from sklearn.metrics import precision_recall_fscore_support\n",
        "from sklearn.metrics import mean_squared_error as mse\n",
        "from sklearn.preprocessing import StandardScaler\n",
        "from sklearn.model_selection import cross_validate\n",
        "from sklearn.model_selection import train_test_split\n",
        "from sklearn.ensemble import ExtraTreesClassifier\n",
        "from sklearn.feature_selection import SelectFromModel\n",
        "from sklearn.svm import LinearSVC\n",
        "from sklearn.ensemble import VotingClassifier\n",
        "from sklearn.feature_selection import RFECV\n",
        "from sklearn import preprocessing"
      ],
      "execution_count": null,
      "outputs": []
    },
    {
      "cell_type": "markdown",
      "metadata": {
        "id": "8dgeDdDZk7Ek"
      },
      "source": [
        "## Data load and pre-processing"
      ]
    },
    {
      "cell_type": "code",
      "metadata": {
        "id": "s9fC3zsekoUu",
        "outputId": "8e8c7885-7d1b-4dcb-dc0e-ef396b8aaace"
      },
      "source": [
        "start_time1 = time.time()\n",
        "cwd = os.getcwd()\n",
        "df = pd.concat([pd.read_csv(f, header=0,sep='\\t') for f in glob.glob(cwd + '/FinalData/2017-ST4000DM000/*.csv')], ignore_index=True)\n",
        "df.head()\n",
        "end_time1 = time.time()\n",
        "print (\"Data load time in seconds = \" +str(end_time1 - start_time1) )\n",
        "        "
      ],
      "execution_count": null,
      "outputs": [
        {
          "output_type": "stream",
          "text": [
            "Data load time in seconds = 11.950889110565186\n"
          ],
          "name": "stdout"
        }
      ]
    },
    {
      "cell_type": "code",
      "metadata": {
        "id": "xNogiR9LkoUv",
        "outputId": "78eeea27-9f7f-4c14-8e96-fc58b8d49d86"
      },
      "source": [
        "df.shape"
      ],
      "execution_count": null,
      "outputs": [
        {
          "output_type": "execute_result",
          "data": {
            "text/plain": [
              "(12546763, 10)"
            ]
          },
          "metadata": {
            "tags": []
          },
          "execution_count": 15
        }
      ]
    },
    {
      "cell_type": "code",
      "metadata": {
        "id": "muu727_XkoUv",
        "outputId": "1e44432b-630e-44bc-c00f-101e61ba9f44"
      },
      "source": [
        "df.shape"
      ],
      "execution_count": null,
      "outputs": [
        {
          "output_type": "execute_result",
          "data": {
            "text/plain": [
              "(12546763, 10)"
            ]
          },
          "metadata": {
            "tags": []
          },
          "execution_count": 16
        }
      ]
    },
    {
      "cell_type": "code",
      "metadata": {
        "id": "bIL27t99koUw"
      },
      "source": [
        ""
      ],
      "execution_count": null,
      "outputs": []
    },
    {
      "cell_type": "code",
      "metadata": {
        "id": "D1xcDFfakoUw",
        "outputId": "7d64b04a-3cec-45b0-ca75-9474451d9031"
      },
      "source": [
        "# determine the failure_count of each model in entire dataset\n",
        "master_df=df\n",
        "failure_counts = master_df[master_df[\"failure\"]==1].groupby([\"model\"]).agg({'model':'count'})\n",
        "failure_counts.columns = [\"Failed_count\"]\n",
        "failure_counts['Model_name'] = failure_counts.index\n",
        "failure_counts = failure_counts.reset_index(drop=True)\n",
        "failure_counts.shape"
      ],
      "execution_count": null,
      "outputs": [
        {
          "output_type": "execute_result",
          "data": {
            "text/plain": [
              "(2, 2)"
            ]
          },
          "metadata": {
            "tags": []
          },
          "execution_count": 17
        }
      ]
    },
    {
      "cell_type": "code",
      "metadata": {
        "id": "XBZUgUK3koUx"
      },
      "source": [
        ""
      ],
      "execution_count": null,
      "outputs": []
    },
    {
      "cell_type": "code",
      "metadata": {
        "id": "96oHb12mkoUx",
        "outputId": "e7f9af70-81af-42d7-9f64-d688870ebb44"
      },
      "source": [
        "# determine the no_failure_count of each model in entire dataset\n",
        "no_failure_counts = master_df[master_df[\"failure\"]==0].groupby([\"model\"]).agg({'model':'count'})\n",
        "no_failure_counts.columns = [\"Healthy_count\"]\n",
        "no_failure_counts['Model_name'] = no_failure_counts.index\n",
        "no_failure_counts = no_failure_counts.reset_index(drop=True)\n",
        "no_failure_counts.shape"
      ],
      "execution_count": null,
      "outputs": [
        {
          "output_type": "execute_result",
          "data": {
            "text/plain": [
              "(2, 2)"
            ]
          },
          "metadata": {
            "tags": []
          },
          "execution_count": 18
        }
      ]
    },
    {
      "cell_type": "code",
      "metadata": {
        "id": "9FP1hoqCkoUy",
        "outputId": "22a0d1d0-74ea-4cdb-e02f-774ee9dca4f6"
      },
      "source": [
        "# determine the count of each model in entire dataset\n",
        "models_count = master_df[\"model\"]\n",
        "models_count = models_count.value_counts().to_frame()\n",
        "models_count.columns = [\"Total_count\"]\n",
        "models_count['Model_name'] = models_count.index\n",
        "models_count.reset_index(drop=True)\n",
        "models_count.shape"
      ],
      "execution_count": null,
      "outputs": [
        {
          "output_type": "execute_result",
          "data": {
            "text/plain": [
              "(2, 2)"
            ]
          },
          "metadata": {
            "tags": []
          },
          "execution_count": 19
        }
      ]
    },
    {
      "cell_type": "code",
      "metadata": {
        "id": "0Uc21xWzkoUz",
        "outputId": "09a70b79-6100-415a-d61d-3b2df0ecc1e2"
      },
      "source": [
        "\n",
        "# combine no_failure_counts and failure_counts into one df\n",
        "merged_level_1 = pd.merge(no_failure_counts, failure_counts, left_on='Model_name', right_on='Model_name', how=\"left\")\n",
        "merged_level_1"
      ],
      "execution_count": null,
      "outputs": [
        {
          "output_type": "execute_result",
          "data": {
            "text/html": [
              "<div>\n",
              "<style scoped>\n",
              "    .dataframe tbody tr th:only-of-type {\n",
              "        vertical-align: middle;\n",
              "    }\n",
              "\n",
              "    .dataframe tbody tr th {\n",
              "        vertical-align: top;\n",
              "    }\n",
              "\n",
              "    .dataframe thead th {\n",
              "        text-align: right;\n",
              "    }\n",
              "</style>\n",
              "<table border=\"1\" class=\"dataframe\">\n",
              "  <thead>\n",
              "    <tr style=\"text-align: right;\">\n",
              "      <th></th>\n",
              "      <th>Healthy_count</th>\n",
              "      <th>Model_name</th>\n",
              "      <th>Failed_count</th>\n",
              "    </tr>\n",
              "  </thead>\n",
              "  <tbody>\n",
              "    <tr>\n",
              "      <th>0</th>\n",
              "      <td>308847</td>\n",
              "      <td>ST12000NM0007</td>\n",
              "      <td>17</td>\n",
              "    </tr>\n",
              "    <tr>\n",
              "      <th>1</th>\n",
              "      <td>12236835</td>\n",
              "      <td>ST4000DM000</td>\n",
              "      <td>1064</td>\n",
              "    </tr>\n",
              "  </tbody>\n",
              "</table>\n",
              "</div>"
            ],
            "text/plain": [
              "   Healthy_count     Model_name  Failed_count\n",
              "0         308847  ST12000NM0007            17\n",
              "1       12236835    ST4000DM000          1064"
            ]
          },
          "metadata": {
            "tags": []
          },
          "execution_count": 20
        }
      ]
    },
    {
      "cell_type": "code",
      "metadata": {
        "id": "h0BTiX61koUz",
        "outputId": "be2b454b-4246-4a86-8bf2-3890c9a4318c"
      },
      "source": [
        "\n",
        "# combine models_count and failure_counts into one df\n",
        "merged_level_2 = pd.merge(models_count, merged_level_1, left_on='Model_name', right_on='Model_name', how=\"left\")\n",
        "merged_level_2 = merged_level_2.fillna(0)\n",
        "merged_level_2[\"Failed_count\"] = merged_level_2[\"Failed_count\"].astype('int32')\n",
        "merged_level_2 = merged_level_2.sort_values(by='Failed_count', ascending=False).head(5)\n",
        "merged_level_2"
      ],
      "execution_count": null,
      "outputs": [
        {
          "output_type": "execute_result",
          "data": {
            "text/html": [
              "<div>\n",
              "<style scoped>\n",
              "    .dataframe tbody tr th:only-of-type {\n",
              "        vertical-align: middle;\n",
              "    }\n",
              "\n",
              "    .dataframe tbody tr th {\n",
              "        vertical-align: top;\n",
              "    }\n",
              "\n",
              "    .dataframe thead th {\n",
              "        text-align: right;\n",
              "    }\n",
              "</style>\n",
              "<table border=\"1\" class=\"dataframe\">\n",
              "  <thead>\n",
              "    <tr style=\"text-align: right;\">\n",
              "      <th></th>\n",
              "      <th>Total_count</th>\n",
              "      <th>Model_name</th>\n",
              "      <th>Healthy_count</th>\n",
              "      <th>Failed_count</th>\n",
              "    </tr>\n",
              "  </thead>\n",
              "  <tbody>\n",
              "    <tr>\n",
              "      <th>0</th>\n",
              "      <td>12237899</td>\n",
              "      <td>ST4000DM000</td>\n",
              "      <td>12236835</td>\n",
              "      <td>1064</td>\n",
              "    </tr>\n",
              "    <tr>\n",
              "      <th>1</th>\n",
              "      <td>308864</td>\n",
              "      <td>ST12000NM0007</td>\n",
              "      <td>308847</td>\n",
              "      <td>17</td>\n",
              "    </tr>\n",
              "  </tbody>\n",
              "</table>\n",
              "</div>"
            ],
            "text/plain": [
              "   Total_count     Model_name  Healthy_count  Failed_count\n",
              "0     12237899    ST4000DM000       12236835          1064\n",
              "1       308864  ST12000NM0007         308847            17"
            ]
          },
          "metadata": {
            "tags": []
          },
          "execution_count": 21
        }
      ]
    },
    {
      "cell_type": "code",
      "metadata": {
        "id": "US2gJGdJkoU0",
        "outputId": "ee12debb-3337-47a4-c039-b3bc1967182e"
      },
      "source": [
        "merged_level_2[\"Failed_percentage\"] = (merged_level_2[\"Failed_count\"] / merged_level_2[\"Total_count\"])*100\n",
        "merged_level_2.head()"
      ],
      "execution_count": null,
      "outputs": [
        {
          "output_type": "execute_result",
          "data": {
            "text/html": [
              "<div>\n",
              "<style scoped>\n",
              "    .dataframe tbody tr th:only-of-type {\n",
              "        vertical-align: middle;\n",
              "    }\n",
              "\n",
              "    .dataframe tbody tr th {\n",
              "        vertical-align: top;\n",
              "    }\n",
              "\n",
              "    .dataframe thead th {\n",
              "        text-align: right;\n",
              "    }\n",
              "</style>\n",
              "<table border=\"1\" class=\"dataframe\">\n",
              "  <thead>\n",
              "    <tr style=\"text-align: right;\">\n",
              "      <th></th>\n",
              "      <th>Total_count</th>\n",
              "      <th>Model_name</th>\n",
              "      <th>Healthy_count</th>\n",
              "      <th>Failed_count</th>\n",
              "      <th>Failed_percentage</th>\n",
              "    </tr>\n",
              "  </thead>\n",
              "  <tbody>\n",
              "    <tr>\n",
              "      <th>0</th>\n",
              "      <td>12237899</td>\n",
              "      <td>ST4000DM000</td>\n",
              "      <td>12236835</td>\n",
              "      <td>1064</td>\n",
              "      <td>0.008694</td>\n",
              "    </tr>\n",
              "    <tr>\n",
              "      <th>1</th>\n",
              "      <td>308864</td>\n",
              "      <td>ST12000NM0007</td>\n",
              "      <td>308847</td>\n",
              "      <td>17</td>\n",
              "      <td>0.005504</td>\n",
              "    </tr>\n",
              "  </tbody>\n",
              "</table>\n",
              "</div>"
            ],
            "text/plain": [
              "   Total_count     Model_name  Healthy_count  Failed_count  Failed_percentage\n",
              "0     12237899    ST4000DM000       12236835          1064           0.008694\n",
              "1       308864  ST12000NM0007         308847            17           0.005504"
            ]
          },
          "metadata": {
            "tags": []
          },
          "execution_count": 22
        }
      ]
    },
    {
      "cell_type": "code",
      "metadata": {
        "id": "fdMr0SGokoU2",
        "outputId": "89a12b9c-e174-4875-9eb0-92df60d971bc"
      },
      "source": [
        "num_drives = len(df.serial_number.unique()) # unique hard drives in 1Q19\n",
        "print('{} unique hard drives in use in 2Q19.'.format(num_drives))\n",
        "print('---------------------------------------------------------- \\n')\n",
        "\n",
        "print('Percentage of each model in the dataset. \\n')\n",
        "model_pcts = df.groupby('model').serial_number.nunique().sort_values(ascending=False) / num_drives * 100.0\n",
        "print('{}%'.format(round(model_pcts, 2)))\n",
        "print('---------------------------------------------------------- \\n')\n",
        "\n",
        "print('The top 5 models comprise {}% of the total.'.format(round(model_pcts.head(5).sum(), 2)))\n",
        "print('---------------------------------------------------------- \\n')\n",
        "\n",
        "model_pcts = model_pcts.reset_index() # bring index of models into dataframe to fitler by model\n",
        "ST = model_pcts[(model_pcts.model.str.startswith('ST'))].sum()[-1]\n",
        "HGST = model_pcts[(model_pcts.model.str.startswith('HGST'))].sum()[-1]\n",
        "print('ST and HGST models comprise: {}% of the total.'.format(round((ST + HGST), 2)))\n",
        "print('---------------------------------------------------------- \\n')\n",
        "print('ST comprise: {}%'.format(round(ST/100 * 100, 2)))\n",
        "print('HGST comprise: {}%'.format(round(HGST/100 * 100, 2)))   \n",
        "print('Others comprise: {}%'.format(round((1 - ST/100 - HGST/100) * 100, 2)))"
      ],
      "execution_count": null,
      "outputs": [
        {
          "output_type": "stream",
          "text": [
            "42431 unique hard drives in use in 2Q19.\n",
            "---------------------------------------------------------- \n",
            "\n",
            "Percentage of each model in the dataset. \n",
            "\n",
            "model\n",
            "ST4000DM000      82.93\n",
            "ST12000NM0007    17.07\n",
            "Name: serial_number, dtype: float64%\n",
            "---------------------------------------------------------- \n",
            "\n",
            "The top 5 models comprise 100.0% of the total.\n",
            "---------------------------------------------------------- \n",
            "\n",
            "ST and HGST models comprise: 100.0% of the total.\n",
            "---------------------------------------------------------- \n",
            "\n",
            "ST comprise: 100.0%\n",
            "HGST comprise: 0.0%\n",
            "Others comprise: 0.0%\n"
          ],
          "name": "stdout"
        }
      ]
    },
    {
      "cell_type": "markdown",
      "metadata": {
        "id": "VMnZmUV3koU3"
      },
      "source": [
        "##### How complete is the dataset, are there missing values (nan)?\n",
        "\n",
        "From the printout below, we can see that a large percentage of some columns are missing values. In some cases the entire column is missing (e.g., smart_13 and smart_15)."
      ]
    },
    {
      "cell_type": "code",
      "metadata": {
        "id": "dri2o9vGkoU4",
        "outputId": "234725b8-3344-462c-cd45-8ccefe5e1204"
      },
      "source": [
        "for column in list(df):\n",
        "    missing = round(df[column].notna().sum() / df.shape[0] * 100, 2)\n",
        "    print('{:.<27}{}%'.format(column, missing))"
      ],
      "execution_count": null,
      "outputs": [
        {
          "output_type": "stream",
          "text": [
            "model......................100.0%\n",
            "date.......................100.0%\n",
            "serial_number..............100.0%\n",
            "capacity_bytes.............100.0%\n",
            "failure....................100.0%\n",
            "smart_5_raw................100.0%\n",
            "smart_187_raw..............100.0%\n",
            "smart_188_raw..............100.0%\n",
            "smart_197_raw..............100.0%\n",
            "smart_198_raw..............100.0%\n"
          ],
          "name": "stdout"
        }
      ]
    },
    {
      "cell_type": "code",
      "metadata": {
        "id": "A7AbKEA1koU4"
      },
      "source": [
        "def print_df_percent_missing(df_passed):\n",
        "    col_names = list(df_passed.columns.values)\n",
        "    tuples_of_missing = []\n",
        "    num_rows = df_passed.shape[0]\n",
        "\n",
        "\n",
        "    i = 0\n",
        "    for value in df_passed.count():\n",
        "        tuples_of_missing.append((col_names[i], value))\n",
        "        i+=1\n",
        "\n",
        "    tuples_of_missing.sort(key=lambda pair: pair[1], reverse=False)\n",
        "\n",
        "    i = 1\n",
        "    for key, value in tuples_of_missing: \n",
        "        percent_missing = 100 - (value / num_rows * 100)\n",
        "        print(key.ljust(30),  str(f'{percent_missing:.2f}' + '%').ljust(6) + \" Missing   \" + str(i))\n",
        "        i += 1"
      ],
      "execution_count": null,
      "outputs": []
    },
    {
      "cell_type": "code",
      "metadata": {
        "id": "SOW1PtjlkoU5",
        "outputId": "9f90b306-ac72-441b-8642-e2a5afd5b4c9"
      },
      "source": [
        "print_df_percent_missing(df)"
      ],
      "execution_count": null,
      "outputs": [
        {
          "output_type": "stream",
          "text": [
            "smart_5_raw                    0.00%  Missing   1\n",
            "smart_187_raw                  0.00%  Missing   2\n",
            "smart_188_raw                  0.00%  Missing   3\n",
            "smart_197_raw                  0.00%  Missing   4\n",
            "smart_198_raw                  0.00%  Missing   5\n",
            "model                          0.00%  Missing   6\n",
            "date                           0.00%  Missing   7\n",
            "serial_number                  0.00%  Missing   8\n",
            "capacity_bytes                 0.00%  Missing   9\n",
            "failure                        0.00%  Missing   10\n"
          ],
          "name": "stdout"
        }
      ]
    },
    {
      "cell_type": "code",
      "metadata": {
        "id": "t6h1Dm-UkoU6",
        "outputId": "91a9d630-7d8b-44d9-8394-9825237410c4"
      },
      "source": [
        "n_rows_before = df.shape[0]\n",
        "print('Number of observations before filtering:', n_rows_before)\n",
        "print('---------------------------------------------------------- \\n')\n",
        "\n",
        "# filter by brands, and then select top ten ST and HGST models\n",
        "brand_filter = (df['model'].str.startswith('ST')) | (df['model'].str.startswith('HGST')) # ST and HGST brands boolean mask\n",
        "df = df[brand_filter]\n",
        "model_filter = df.groupby('model').size().sort_values(ascending=False).head(5).index # find top ten models\n",
        "model_filter = list(model_filter)\n",
        "model_filter = df['model'].isin(model_filter) # build the boolean mask\n",
        "df = df[model_filter]\n",
        "\n",
        "n_rows_after = df.shape[0]\n",
        "print('Number of observations after filtering:', n_rows_after)\n",
        "print('---------------------------------------------------------- \\n')\n",
        "print('Percentage change in observations after filtering:  {}%'.format(round((n_rows_after / n_rows_before - 1) * 100 , 2)))\n",
        "print('---------------------------------------------------------- \\n')\n",
        "# plot counts of hard drives by model\n",
        "fig, ax = plt.subplots(figsize=(7, 7))\n",
        "# Set the colors\n",
        "colors = [ 'r', 'c', 'm', 'y', 'g']\n",
        "ax.barh(df.groupby('model').serial_number.nunique().sort_values().index, df.groupby('model').serial_number.nunique().sort_values(),color=colors, edgecolor='k')\n",
        "ax.set_xlabel('Count')\n",
        "ax.set_title('Top 5 most common ST and HGST models: Q2 2019 ', size=16)\n",
        "\n",
        "plt.tight_layout()\n",
        "plt.show()\n",
        "\n",
        "print('Missing percentages in the new dataset: \\n')\n",
        "print_df_percent_missing(df)"
      ],
      "execution_count": null,
      "outputs": [
        {
          "output_type": "stream",
          "text": [
            "Number of observations before filtering: 12546763\n",
            "---------------------------------------------------------- \n",
            "\n",
            "Number of observations after filtering: 12546763\n",
            "---------------------------------------------------------- \n",
            "\n",
            "Percentage change in observations after filtering:  0.0%\n",
            "---------------------------------------------------------- \n",
            "\n"
          ],
          "name": "stdout"
        },
        {
          "output_type": "display_data",
          "data": {
            "image/png": "[encoded data removed]",
            "text/plain": [
              "<Figure size 504x504 with 1 Axes>"
            ]
          },
          "metadata": {
            "tags": []
          }
        },
        {
          "output_type": "stream",
          "text": [
            "Missing percentages in the new dataset: \n",
            "\n",
            "smart_5_raw                    0.00%  Missing   1\n",
            "smart_187_raw                  0.00%  Missing   2\n",
            "smart_188_raw                  0.00%  Missing   3\n",
            "smart_197_raw                  0.00%  Missing   4\n",
            "smart_198_raw                  0.00%  Missing   5\n",
            "model                          0.00%  Missing   6\n",
            "date                           0.00%  Missing   7\n",
            "serial_number                  0.00%  Missing   8\n",
            "capacity_bytes                 0.00%  Missing   9\n",
            "failure                        0.00%  Missing   10\n"
          ],
          "name": "stdout"
        }
      ]
    },
    {
      "cell_type": "code",
      "metadata": {
        "id": "E0KupRoqkoU8",
        "outputId": "77959bcf-763e-4220-a939-5060dbd555d2"
      },
      "source": [
        "n_fail = df.failure.sum() # number of drives failed in 1Q19\n",
        "n_notfail = len(df.serial_number.unique()) - n_fail\n",
        "ptg_fail = (n_fail / (n_notfail+ n_fail) )*100\n",
        "\n",
        "print('No. of failed drives in 1Q19: {} '.format(n_fail))\n",
        "print('No. of healthy drives in 1Q19: {} '.format(n_notfail))\n",
        "print('Percentage of failed: {:.2f}%'.format(round(ptg_fail,2)))"
      ],
      "execution_count": null,
      "outputs": [
        {
          "output_type": "stream",
          "text": [
            "No. of failed drives in 1Q19: 1081 \n",
            "No. of healthy drives in 1Q19: 41350 \n",
            "Percentage of failed: 2.55%\n"
          ],
          "name": "stdout"
        }
      ]
    },
    {
      "cell_type": "code",
      "metadata": {
        "id": "0LMps3mQkoU-",
        "outputId": "3b1299b8-1484-4d7b-e03e-d58a49d503b3"
      },
      "source": [
        "df.failure.value_counts(normalize = True)"
      ],
      "execution_count": null,
      "outputs": [
        {
          "output_type": "execute_result",
          "data": {
            "text/plain": [
              "0    0.999914\n",
              "1    0.000086\n",
              "Name: failure, dtype: float64"
            ]
          },
          "metadata": {
            "tags": []
          },
          "execution_count": 29
        }
      ]
    },
    {
      "cell_type": "code",
      "metadata": {
        "id": "R1nmPmBfkoU-",
        "outputId": "ff3fc631-65dd-4960-a032-5a7678a12cd4"
      },
      "source": [
        "#determine number of unique models in data\n",
        "print(f'There are {df.model.nunique()} unique model types')"
      ],
      "execution_count": null,
      "outputs": [
        {
          "output_type": "stream",
          "text": [
            "There are 2 unique model types\n"
          ],
          "name": "stdout"
        }
      ]
    },
    {
      "cell_type": "code",
      "metadata": {
        "id": "295Ad77lkoVA",
        "outputId": "4ebbb7a0-8390-489d-ea7f-03fbe875a03d"
      },
      "source": [
        "#Determine how many models in this data have failed\n",
        "failing_models = df[df.failure == 1]['model']\n",
        "\n",
        "print(f'There are {failing_models.nunique()} model types that have failed')\n",
        "failing_models.value_counts(ascending = True)"
      ],
      "execution_count": null,
      "outputs": [
        {
          "output_type": "stream",
          "text": [
            "There are 2 model types that have failed\n"
          ],
          "name": "stdout"
        },
        {
          "output_type": "execute_result",
          "data": {
            "text/plain": [
              "ST12000NM0007      17\n",
              "ST4000DM000      1064\n",
              "Name: model, dtype: int64"
            ]
          },
          "metadata": {
            "tags": []
          },
          "execution_count": 31
        }
      ]
    },
    {
      "cell_type": "code",
      "metadata": {
        "id": "AzFo0ZAwkoVB",
        "outputId": "ad739e5f-dde7-4e02-e3a1-2f14766b4498"
      },
      "source": [
        "%matplotlib inline\n",
        "\n",
        "fig = plt.figure(figsize = (5,5))\n",
        "colors = ['b', 'g', 'r', 'c', 'm']\n",
        "#plot the model types that have failed\n",
        "ax = failing_models.value_counts(ascending = True).plot.barh(color=colors)\n",
        "ax.set_title('Number of failures for given model types')\n",
        "plt.savefig('model_failures.png')\n",
        "plt.show();"
      ],
      "execution_count": null,
      "outputs": [
        {
          "output_type": "display_data",
          "data": {
            "image/png": "[encoded data removed]",
            "text/plain": [
              "<Figure size 360x360 with 1 Axes>"
            ]
          },
          "metadata": {
            "tags": [],
            "needs_background": "light"
          }
        }
      ]
    },
    {
      "cell_type": "code",
      "metadata": {
        "id": "0WEVfDHBkoVC",
        "outputId": "79d7ef5d-22f5-4c5c-bc7b-523e1ddb256b"
      },
      "source": [
        "x3 = df[['model', 'failure']].groupby('model').count() # Total number of each model\n",
        "x3"
      ],
      "execution_count": null,
      "outputs": [
        {
          "output_type": "execute_result",
          "data": {
            "text/html": [
              "<div>\n",
              "<style scoped>\n",
              "    .dataframe tbody tr th:only-of-type {\n",
              "        vertical-align: middle;\n",
              "    }\n",
              "\n",
              "    .dataframe tbody tr th {\n",
              "        vertical-align: top;\n",
              "    }\n",
              "\n",
              "    .dataframe thead th {\n",
              "        text-align: right;\n",
              "    }\n",
              "</style>\n",
              "<table border=\"1\" class=\"dataframe\">\n",
              "  <thead>\n",
              "    <tr style=\"text-align: right;\">\n",
              "      <th></th>\n",
              "      <th>failure</th>\n",
              "    </tr>\n",
              "    <tr>\n",
              "      <th>model</th>\n",
              "      <th></th>\n",
              "    </tr>\n",
              "  </thead>\n",
              "  <tbody>\n",
              "    <tr>\n",
              "      <th>ST12000NM0007</th>\n",
              "      <td>308864</td>\n",
              "    </tr>\n",
              "    <tr>\n",
              "      <th>ST4000DM000</th>\n",
              "      <td>12237899</td>\n",
              "    </tr>\n",
              "  </tbody>\n",
              "</table>\n",
              "</div>"
            ],
            "text/plain": [
              "                failure\n",
              "model                  \n",
              "ST12000NM0007    308864\n",
              "ST4000DM000    12237899"
            ]
          },
          "metadata": {
            "tags": []
          },
          "execution_count": 33
        }
      ]
    },
    {
      "cell_type": "code",
      "metadata": {
        "id": "VwfzwuP-koVE",
        "outputId": "a1af063e-316d-4664-f59f-23f5aef5fc58"
      },
      "source": [
        "df.columns"
      ],
      "execution_count": null,
      "outputs": [
        {
          "output_type": "execute_result",
          "data": {
            "text/plain": [
              "Index(['model', 'date', 'serial_number', 'capacity_bytes', 'failure',\n",
              "       'smart_5_raw', 'smart_187_raw', 'smart_188_raw', 'smart_197_raw',\n",
              "       'smart_198_raw'],\n",
              "      dtype='object')"
            ]
          },
          "metadata": {
            "tags": []
          },
          "execution_count": 34
        }
      ]
    },
    {
      "cell_type": "code",
      "metadata": {
        "id": "q28mEvQzkoVF",
        "outputId": "c85464a4-00ee-4b4a-85e5-d2f257403a5b"
      },
      "source": [
        "x1 = df[['model', 'failure']].groupby('model').sum() # Total number of failures by model\n",
        "x2 = df[['model', 'failure']].groupby('model').count() # Total number of each model\n",
        "ptg_model_fail = np.divide(x1, x2) * 100 \n",
        "ptg_model_fail.columns = ['ptg']\n",
        "ptg_model_fail = ptg_model_fail.reset_index().sort_values('ptg')\n",
        "# Set the colors\n",
        "colors = ['b', 'g', 'r', 'c', 'm']\n",
        "fig, ax = plt.subplots(figsize=(7, 7))\n",
        "ax.barh(ptg_model_fail['model'], ptg_model_fail['ptg'], color=colors,edgecolor='k',height=0.6)\n",
        "ax.set_xlabel('Percentage')\n",
        "ax.set_title('Failure percentage by model', size=16)\n",
        "\n",
        "plt.tight_layout()\n",
        "plt.show()"
      ],
      "execution_count": null,
      "outputs": [
        {
          "output_type": "display_data",
          "data": {
            "image/png": "[encoded data removed]",
            "text/plain": [
              "<Figure size 504x504 with 1 Axes>"
            ]
          },
          "metadata": {
            "tags": [],
            "needs_background": "light"
          }
        }
      ]
    },
    {
      "cell_type": "code",
      "metadata": {
        "id": "5Za8Lp09koVH",
        "outputId": "800d55cb-f00d-4edb-c092-a920573977c8"
      },
      "source": [
        "df.shape"
      ],
      "execution_count": null,
      "outputs": [
        {
          "output_type": "execute_result",
          "data": {
            "text/plain": [
              "(12546763, 10)"
            ]
          },
          "metadata": {
            "tags": []
          },
          "execution_count": 36
        }
      ]
    },
    {
      "cell_type": "code",
      "metadata": {
        "id": "8clZwaF5koVH"
      },
      "source": [
        "df_2Q19 = df[(df.model == 'ST4000DM000')] \n",
        "df.date = pd.to_datetime(df.date)"
      ],
      "execution_count": null,
      "outputs": []
    },
    {
      "cell_type": "code",
      "metadata": {
        "id": "e-6X5VjrkoVI",
        "outputId": "36a4fa57-979d-4e28-9f6c-0c1d6fffb1d2"
      },
      "source": [
        "df_2Q19.shape"
      ],
      "execution_count": null,
      "outputs": [
        {
          "output_type": "execute_result",
          "data": {
            "text/plain": [
              "(12237899, 10)"
            ]
          },
          "metadata": {
            "tags": []
          },
          "execution_count": 38
        }
      ]
    },
    {
      "cell_type": "code",
      "metadata": {
        "id": "zsxCV_nJkoVI",
        "outputId": "834a0423-f526-47c0-e72b-0acc58ceb809"
      },
      "source": [
        "df_2Q19.head(5)"
      ],
      "execution_count": null,
      "outputs": [
        {
          "output_type": "execute_result",
          "data": {
            "text/html": [
              "<div>\n",
              "<style scoped>\n",
              "    .dataframe tbody tr th:only-of-type {\n",
              "        vertical-align: middle;\n",
              "    }\n",
              "\n",
              "    .dataframe tbody tr th {\n",
              "        vertical-align: top;\n",
              "    }\n",
              "\n",
              "    .dataframe thead th {\n",
              "        text-align: right;\n",
              "    }\n",
              "</style>\n",
              "<table border=\"1\" class=\"dataframe\">\n",
              "  <thead>\n",
              "    <tr style=\"text-align: right;\">\n",
              "      <th></th>\n",
              "      <th>model</th>\n",
              "      <th>date</th>\n",
              "      <th>serial_number</th>\n",
              "      <th>capacity_bytes</th>\n",
              "      <th>failure</th>\n",
              "      <th>smart_5_raw</th>\n",
              "      <th>smart_187_raw</th>\n",
              "      <th>smart_188_raw</th>\n",
              "      <th>smart_197_raw</th>\n",
              "      <th>smart_198_raw</th>\n",
              "    </tr>\n",
              "  </thead>\n",
              "  <tbody>\n",
              "    <tr>\n",
              "      <th>0</th>\n",
              "      <td>ST4000DM000</td>\n",
              "      <td>2017-01-01</td>\n",
              "      <td>Z305B2QN</td>\n",
              "      <td>4 Tb</td>\n",
              "      <td>0</td>\n",
              "      <td>0.0</td>\n",
              "      <td>0.0</td>\n",
              "      <td>0.0</td>\n",
              "      <td>0.0</td>\n",
              "      <td>0.0</td>\n",
              "    </tr>\n",
              "    <tr>\n",
              "      <th>1</th>\n",
              "      <td>ST4000DM000</td>\n",
              "      <td>2017-01-01</td>\n",
              "      <td>Z302A0YH</td>\n",
              "      <td>4 Tb</td>\n",
              "      <td>0</td>\n",
              "      <td>0.0</td>\n",
              "      <td>0.0</td>\n",
              "      <td>1.0</td>\n",
              "      <td>0.0</td>\n",
              "      <td>0.0</td>\n",
              "    </tr>\n",
              "    <tr>\n",
              "      <th>2</th>\n",
              "      <td>ST4000DM000</td>\n",
              "      <td>2017-01-01</td>\n",
              "      <td>Z305BT0W</td>\n",
              "      <td>4 Tb</td>\n",
              "      <td>0</td>\n",
              "      <td>0.0</td>\n",
              "      <td>0.0</td>\n",
              "      <td>0.0</td>\n",
              "      <td>0.0</td>\n",
              "      <td>0.0</td>\n",
              "    </tr>\n",
              "    <tr>\n",
              "      <th>3</th>\n",
              "      <td>ST4000DM000</td>\n",
              "      <td>2017-01-01</td>\n",
              "      <td>Z302A0YE</td>\n",
              "      <td>4 Tb</td>\n",
              "      <td>0</td>\n",
              "      <td>0.0</td>\n",
              "      <td>0.0</td>\n",
              "      <td>0.0</td>\n",
              "      <td>0.0</td>\n",
              "      <td>0.0</td>\n",
              "    </tr>\n",
              "    <tr>\n",
              "      <th>4</th>\n",
              "      <td>ST4000DM000</td>\n",
              "      <td>2017-01-01</td>\n",
              "      <td>Z302PGH8</td>\n",
              "      <td>4 Tb</td>\n",
              "      <td>0</td>\n",
              "      <td>0.0</td>\n",
              "      <td>0.0</td>\n",
              "      <td>0.0</td>\n",
              "      <td>0.0</td>\n",
              "      <td>0.0</td>\n",
              "    </tr>\n",
              "  </tbody>\n",
              "</table>\n",
              "</div>"
            ],
            "text/plain": [
              "         model        date serial_number capacity_bytes  failure  smart_5_raw  \\\n",
              "0  ST4000DM000  2017-01-01      Z305B2QN           4 Tb        0          0.0   \n",
              "1  ST4000DM000  2017-01-01      Z302A0YH           4 Tb        0          0.0   \n",
              "2  ST4000DM000  2017-01-01      Z305BT0W           4 Tb        0          0.0   \n",
              "3  ST4000DM000  2017-01-01      Z302A0YE           4 Tb        0          0.0   \n",
              "4  ST4000DM000  2017-01-01      Z302PGH8           4 Tb        0          0.0   \n",
              "\n",
              "   smart_187_raw  smart_188_raw  smart_197_raw  smart_198_raw  \n",
              "0            0.0            0.0            0.0            0.0  \n",
              "1            0.0            1.0            0.0            0.0  \n",
              "2            0.0            0.0            0.0            0.0  \n",
              "3            0.0            0.0            0.0            0.0  \n",
              "4            0.0            0.0            0.0            0.0  "
            ]
          },
          "metadata": {
            "tags": []
          },
          "execution_count": 39
        }
      ]
    },
    {
      "cell_type": "code",
      "metadata": {
        "id": "eVpS1czTkoVJ",
        "outputId": "b6ad113b-0d21-4d6d-b976-69fc2df63fe7"
      },
      "source": [
        "failure=df_2Q19[df_2Q19[\"failure\"] != 0]\n",
        "failure.shape"
      ],
      "execution_count": null,
      "outputs": [
        {
          "output_type": "execute_result",
          "data": {
            "text/plain": [
              "(1064, 10)"
            ]
          },
          "metadata": {
            "tags": []
          },
          "execution_count": 40
        }
      ]
    },
    {
      "cell_type": "code",
      "metadata": {
        "id": "9kfSZprckoVK"
      },
      "source": [
        ""
      ],
      "execution_count": null,
      "outputs": []
    },
    {
      "cell_type": "code",
      "metadata": {
        "id": "K-QUNrEGkoVK",
        "outputId": "c8f94bad-1bb0-48ee-890d-fe0eacaf9807"
      },
      "source": [
        "failureBySize =failure[['capacity_bytes','failure']].groupby('capacity_bytes').count() # Total number of each model\n",
        "failureBySize.reset_index().sort_values('failure', ascending=False)"
      ],
      "execution_count": null,
      "outputs": [
        {
          "output_type": "execute_result",
          "data": {
            "text/html": [
              "<div>\n",
              "<style scoped>\n",
              "    .dataframe tbody tr th:only-of-type {\n",
              "        vertical-align: middle;\n",
              "    }\n",
              "\n",
              "    .dataframe tbody tr th {\n",
              "        vertical-align: top;\n",
              "    }\n",
              "\n",
              "    .dataframe thead th {\n",
              "        text-align: right;\n",
              "    }\n",
              "</style>\n",
              "<table border=\"1\" class=\"dataframe\">\n",
              "  <thead>\n",
              "    <tr style=\"text-align: right;\">\n",
              "      <th></th>\n",
              "      <th>capacity_bytes</th>\n",
              "      <th>failure</th>\n",
              "    </tr>\n",
              "  </thead>\n",
              "  <tbody>\n",
              "    <tr>\n",
              "      <th>1</th>\n",
              "      <td>4 Tb</td>\n",
              "      <td>1061</td>\n",
              "    </tr>\n",
              "    <tr>\n",
              "      <th>0</th>\n",
              "      <td>0 Tb</td>\n",
              "      <td>3</td>\n",
              "    </tr>\n",
              "  </tbody>\n",
              "</table>\n",
              "</div>"
            ],
            "text/plain": [
              "  capacity_bytes  failure\n",
              "1           4 Tb     1061\n",
              "0           0 Tb        3"
            ]
          },
          "metadata": {
            "tags": []
          },
          "execution_count": 41
        }
      ]
    },
    {
      "cell_type": "code",
      "metadata": {
        "id": "mCXdD51ckoVK",
        "outputId": "20630395-ae71-4fe7-99af-6c38d5551293"
      },
      "source": [
        "neg, pos = np.bincount(df_2Q19['failure'])\n",
        "total = neg + pos\n",
        "print('Examples:\\n    Total: {}\\n    Positive: {} ({:.2f}% of total)\\n'.format(\n",
        "    total, pos, 100 * pos / total))"
      ],
      "execution_count": null,
      "outputs": [
        {
          "output_type": "stream",
          "text": [
            "Examples:\n",
            "    Total: 12237899\n",
            "    Positive: 1064 (0.01% of total)\n",
            "\n"
          ],
          "name": "stdout"
        }
      ]
    },
    {
      "cell_type": "code",
      "metadata": {
        "id": "luzd3ItskoVL",
        "outputId": "7e1ee9a1-4b7c-4c79-aac7-289572a019f4"
      },
      "source": [
        "#determine number of unique models in data\n",
        "print(f'There are {df_2Q19.model.nunique()} unique model types')\n",
        "#Determine how many models in this data have failed\n",
        "failing_models = df[df.failure == 1]['model']\n",
        "\n",
        "print(f'There are {failing_models.nunique()} model types that have failed in the original')\n",
        "failing_models.value_counts(ascending = True)\n",
        "failing_models2 = df_2Q19[df_2Q19.failure == 1]['model']\n",
        "\n",
        "print(f'There are {failing_models2.nunique()} model types that have failed in the reduced set')\n",
        "failing_models2.value_counts(ascending = True)"
      ],
      "execution_count": null,
      "outputs": [
        {
          "output_type": "stream",
          "text": [
            "There are 1 unique model types\n",
            "There are 2 model types that have failed in the original\n",
            "There are 1 model types that have failed in the reduced set\n"
          ],
          "name": "stdout"
        },
        {
          "output_type": "execute_result",
          "data": {
            "text/plain": [
              "ST4000DM000    1064\n",
              "Name: model, dtype: int64"
            ]
          },
          "metadata": {
            "tags": []
          },
          "execution_count": 43
        }
      ]
    },
    {
      "cell_type": "code",
      "metadata": {
        "id": "faYiIX2MkoVL"
      },
      "source": [
        "reduced_columns = df_2Q19[['model', 'date','serial_number','capacity_bytes','failure','smart_5_raw', 'smart_187_raw','smart_188_raw','smart_197_raw','smart_198_raw']]"
      ],
      "execution_count": null,
      "outputs": []
    },
    {
      "cell_type": "code",
      "metadata": {
        "id": "ZoT76cOOkoVL",
        "outputId": "e2e5b8c0-d99f-4671-d45b-7286c3941081"
      },
      "source": [
        "reduced_columns.isnull().sum()"
      ],
      "execution_count": null,
      "outputs": [
        {
          "output_type": "execute_result",
          "data": {
            "text/plain": [
              "model               0\n",
              "date                0\n",
              "serial_number       0\n",
              "capacity_bytes      0\n",
              "failure             0\n",
              "smart_5_raw       202\n",
              "smart_187_raw     202\n",
              "smart_188_raw     202\n",
              "smart_197_raw     202\n",
              "smart_198_raw     202\n",
              "dtype: int64"
            ]
          },
          "metadata": {
            "tags": []
          },
          "execution_count": 45
        }
      ]
    },
    {
      "cell_type": "code",
      "metadata": {
        "id": "VYSLj6vxkoVM",
        "outputId": "a5864db3-a95e-48bd-cc1a-7253b0e04a2c"
      },
      "source": [
        "reduced_columns.isnull().sum()"
      ],
      "execution_count": null,
      "outputs": [
        {
          "output_type": "execute_result",
          "data": {
            "text/plain": [
              "model               0\n",
              "date                0\n",
              "serial_number       0\n",
              "capacity_bytes      0\n",
              "failure             0\n",
              "smart_5_raw       202\n",
              "smart_187_raw     202\n",
              "smart_188_raw     202\n",
              "smart_197_raw     202\n",
              "smart_198_raw     202\n",
              "dtype: int64"
            ]
          },
          "metadata": {
            "tags": []
          },
          "execution_count": 46
        }
      ]
    },
    {
      "cell_type": "code",
      "metadata": {
        "id": "sI5ZLpjYkoVM",
        "outputId": "3d15266a-f5fc-4704-a0ca-b033ee1dd963"
      },
      "source": [
        "reduced_columns.dtypes"
      ],
      "execution_count": null,
      "outputs": [
        {
          "output_type": "execute_result",
          "data": {
            "text/plain": [
              "model              object\n",
              "date               object\n",
              "serial_number      object\n",
              "capacity_bytes     object\n",
              "failure             int64\n",
              "smart_5_raw       float64\n",
              "smart_187_raw     float64\n",
              "smart_188_raw     float64\n",
              "smart_197_raw     float64\n",
              "smart_198_raw     float64\n",
              "dtype: object"
            ]
          },
          "metadata": {
            "tags": []
          },
          "execution_count": 47
        }
      ]
    },
    {
      "cell_type": "code",
      "metadata": {
        "id": "opRykrXSkoVM",
        "outputId": "e62dd540-f203-4509-d0a8-31a2b26c81d9"
      },
      "source": [
        "reduced_columns.memory_usage(deep=True)"
      ],
      "execution_count": null,
      "outputs": [
        {
          "output_type": "execute_result",
          "data": {
            "text/plain": [
              "Index              97903192\n",
              "model             832177132\n",
              "date              819939233\n",
              "serial_number     795463435\n",
              "capacity_bytes    746512038\n",
              "failure            97903192\n",
              "smart_5_raw        97903192\n",
              "smart_187_raw      97903192\n",
              "smart_188_raw      97903192\n",
              "smart_197_raw      97903192\n",
              "smart_198_raw      97903192\n",
              "dtype: int64"
            ]
          },
          "metadata": {
            "tags": []
          },
          "execution_count": 48
        }
      ]
    },
    {
      "cell_type": "code",
      "metadata": {
        "id": "XgsTfzTMkoVN"
      },
      "source": [
        "low_memory_df = reduced_columns.copy()"
      ],
      "execution_count": null,
      "outputs": []
    },
    {
      "cell_type": "code",
      "metadata": {
        "id": "i5gWmIzxkoVN"
      },
      "source": [
        "low_memory_df[\"failure\"] = low_memory_df[\"failure\"].astype(\"category\")\n",
        "low_memory_df[[\"smart_5_raw\", \"smart_187_raw\",\"smart_188_raw\",\"smart_197_raw\",\"smart_198_raw\"]] = low_memory_df[[\"smart_5_raw\", \"smart_187_raw\",\"smart_188_raw\",\"smart_197_raw\",\"smart_198_raw\"]].apply(pd.to_numeric, downcast=\"float\")"
      ],
      "execution_count": null,
      "outputs": []
    },
    {
      "cell_type": "code",
      "metadata": {
        "id": "eOUciprhkoVO",
        "outputId": "57679f91-baef-45db-e6a2-caa51125f081"
      },
      "source": [
        "low_memory_df.memory_usage(deep=True)"
      ],
      "execution_count": null,
      "outputs": [
        {
          "output_type": "execute_result",
          "data": {
            "text/plain": [
              "Index              97903192\n",
              "model             832177132\n",
              "date              819939233\n",
              "serial_number     795463435\n",
              "capacity_bytes    746512038\n",
              "failure            12237995\n",
              "smart_5_raw        48951596\n",
              "smart_187_raw      48951596\n",
              "smart_188_raw      48951596\n",
              "smart_197_raw      48951596\n",
              "smart_198_raw      48951596\n",
              "dtype: int64"
            ]
          },
          "metadata": {
            "tags": []
          },
          "execution_count": 51
        }
      ]
    },
    {
      "cell_type": "code",
      "metadata": {
        "id": "qpTXRidykoVO",
        "outputId": "627f2d83-a2c4-49df-dc23-ff6dc408794a"
      },
      "source": [
        "low_memory_df.dtypes"
      ],
      "execution_count": null,
      "outputs": [
        {
          "output_type": "execute_result",
          "data": {
            "text/plain": [
              "model               object\n",
              "date                object\n",
              "serial_number       object\n",
              "capacity_bytes      object\n",
              "failure           category\n",
              "smart_5_raw        float32\n",
              "smart_187_raw      float32\n",
              "smart_188_raw      float32\n",
              "smart_197_raw      float32\n",
              "smart_198_raw      float32\n",
              "dtype: object"
            ]
          },
          "metadata": {
            "tags": []
          },
          "execution_count": 52
        }
      ]
    },
    {
      "cell_type": "code",
      "metadata": {
        "id": "xrjWjVrRkoVP",
        "outputId": "2c12c183-beb8-4dc0-8fbf-cb9360ff10c4"
      },
      "source": [
        "reduction = low_memory_df.memory_usage(deep=True).sum() /reduced_columns.memory_usage(deep=True).sum()\n",
        "print(f\"{reduction:0.2f}\")\n"
      ],
      "execution_count": null,
      "outputs": [
        {
          "output_type": "stream",
          "text": [
            "0.91\n"
          ],
          "name": "stdout"
        }
      ]
    },
    {
      "cell_type": "markdown",
      "metadata": {
        "id": "RnaBq4KtmZdM"
      },
      "source": [
        "### Final dataframe"
      ]
    },
    {
      "cell_type": "code",
      "metadata": {
        "id": "p9Wk0jBVkoVR"
      },
      "source": [
        "reduced_columns.to_csv('C:\\\\Users\\\\jahmed\\\\Desktop\\\\Jishan\\\\PhDResearch\\\\Code\\\\FinalData\\\\ST4000DM000_2017.csv',encoding='utf-8',sep='\\t', index=False)\n",
        "    "
      ],
      "execution_count": null,
      "outputs": []
    },
    {
      "cell_type": "code",
      "metadata": {
        "id": "22UEXLIbkoVR",
        "outputId": "751ed32e-1aa6-4a51-8b82-ffa3a95b9af8"
      },
      "source": [
        "reduced_columns.shape"
      ],
      "execution_count": null,
      "outputs": [
        {
          "output_type": "execute_result",
          "data": {
            "text/plain": [
              "(12237899, 10)"
            ]
          },
          "metadata": {
            "tags": []
          },
          "execution_count": 56
        }
      ]
    },
    {
      "cell_type": "code",
      "metadata": {
        "id": "L6NFR1Y5koVS",
        "outputId": "27106d06-a6ac-4bc6-9b93-9be83be987ce"
      },
      "source": [
        "reduced_columns.head()"
      ],
      "execution_count": null,
      "outputs": [
        {
          "output_type": "execute_result",
          "data": {
            "text/html": [
              "<div>\n",
              "<style scoped>\n",
              "    .dataframe tbody tr th:only-of-type {\n",
              "        vertical-align: middle;\n",
              "    }\n",
              "\n",
              "    .dataframe tbody tr th {\n",
              "        vertical-align: top;\n",
              "    }\n",
              "\n",
              "    .dataframe thead th {\n",
              "        text-align: right;\n",
              "    }\n",
              "</style>\n",
              "<table border=\"1\" class=\"dataframe\">\n",
              "  <thead>\n",
              "    <tr style=\"text-align: right;\">\n",
              "      <th></th>\n",
              "      <th>model</th>\n",
              "      <th>date</th>\n",
              "      <th>serial_number</th>\n",
              "      <th>capacity_bytes</th>\n",
              "      <th>failure</th>\n",
              "      <th>smart_5_raw</th>\n",
              "      <th>smart_187_raw</th>\n",
              "      <th>smart_188_raw</th>\n",
              "      <th>smart_197_raw</th>\n",
              "      <th>smart_198_raw</th>\n",
              "    </tr>\n",
              "  </thead>\n",
              "  <tbody>\n",
              "    <tr>\n",
              "      <th>0</th>\n",
              "      <td>ST4000DM000</td>\n",
              "      <td>2017-01-01</td>\n",
              "      <td>Z305B2QN</td>\n",
              "      <td>4 Tb</td>\n",
              "      <td>0</td>\n",
              "      <td>0.0</td>\n",
              "      <td>0.0</td>\n",
              "      <td>0.0</td>\n",
              "      <td>0.0</td>\n",
              "      <td>0.0</td>\n",
              "    </tr>\n",
              "    <tr>\n",
              "      <th>1</th>\n",
              "      <td>ST4000DM000</td>\n",
              "      <td>2017-01-01</td>\n",
              "      <td>Z302A0YH</td>\n",
              "      <td>4 Tb</td>\n",
              "      <td>0</td>\n",
              "      <td>0.0</td>\n",
              "      <td>0.0</td>\n",
              "      <td>1.0</td>\n",
              "      <td>0.0</td>\n",
              "      <td>0.0</td>\n",
              "    </tr>\n",
              "    <tr>\n",
              "      <th>2</th>\n",
              "      <td>ST4000DM000</td>\n",
              "      <td>2017-01-01</td>\n",
              "      <td>Z305BT0W</td>\n",
              "      <td>4 Tb</td>\n",
              "      <td>0</td>\n",
              "      <td>0.0</td>\n",
              "      <td>0.0</td>\n",
              "      <td>0.0</td>\n",
              "      <td>0.0</td>\n",
              "      <td>0.0</td>\n",
              "    </tr>\n",
              "    <tr>\n",
              "      <th>3</th>\n",
              "      <td>ST4000DM000</td>\n",
              "      <td>2017-01-01</td>\n",
              "      <td>Z302A0YE</td>\n",
              "      <td>4 Tb</td>\n",
              "      <td>0</td>\n",
              "      <td>0.0</td>\n",
              "      <td>0.0</td>\n",
              "      <td>0.0</td>\n",
              "      <td>0.0</td>\n",
              "      <td>0.0</td>\n",
              "    </tr>\n",
              "    <tr>\n",
              "      <th>4</th>\n",
              "      <td>ST4000DM000</td>\n",
              "      <td>2017-01-01</td>\n",
              "      <td>Z302PGH8</td>\n",
              "      <td>4 Tb</td>\n",
              "      <td>0</td>\n",
              "      <td>0.0</td>\n",
              "      <td>0.0</td>\n",
              "      <td>0.0</td>\n",
              "      <td>0.0</td>\n",
              "      <td>0.0</td>\n",
              "    </tr>\n",
              "  </tbody>\n",
              "</table>\n",
              "</div>"
            ],
            "text/plain": [
              "         model        date serial_number capacity_bytes  failure  smart_5_raw  \\\n",
              "0  ST4000DM000  2017-01-01      Z305B2QN           4 Tb        0          0.0   \n",
              "1  ST4000DM000  2017-01-01      Z302A0YH           4 Tb        0          0.0   \n",
              "2  ST4000DM000  2017-01-01      Z305BT0W           4 Tb        0          0.0   \n",
              "3  ST4000DM000  2017-01-01      Z302A0YE           4 Tb        0          0.0   \n",
              "4  ST4000DM000  2017-01-01      Z302PGH8           4 Tb        0          0.0   \n",
              "\n",
              "   smart_187_raw  smart_188_raw  smart_197_raw  smart_198_raw  \n",
              "0            0.0            0.0            0.0            0.0  \n",
              "1            0.0            1.0            0.0            0.0  \n",
              "2            0.0            0.0            0.0            0.0  \n",
              "3            0.0            0.0            0.0            0.0  \n",
              "4            0.0            0.0            0.0            0.0  "
            ]
          },
          "metadata": {
            "tags": []
          },
          "execution_count": 61
        }
      ]
    },
    {
      "cell_type": "code",
      "metadata": {
        "id": "dXqhFTLvkoVT"
      },
      "source": [
        "df = reduced_columns[['smart_5_raw', 'smart_187_raw','smart_188_raw','smart_197_raw','smart_198_raw','failure']]"
      ],
      "execution_count": null,
      "outputs": []
    },
    {
      "cell_type": "code",
      "metadata": {
        "id": "jHTV9CnJkoVT",
        "outputId": "26109b37-05a8-44be-8f8a-f08d0a7f9cc2"
      },
      "source": [
        "df.info()"
      ],
      "execution_count": null,
      "outputs": [
        {
          "output_type": "stream",
          "text": [
            "<class 'pandas.core.frame.DataFrame'>\n",
            "Int64Index: 12237899 entries, 0 to 12546762\n",
            "Data columns (total 6 columns):\n",
            " #   Column         Dtype  \n",
            "---  ------         -----  \n",
            " 0   failure        int64  \n",
            " 1   smart_5_raw    float64\n",
            " 2   smart_187_raw  float64\n",
            " 3   smart_188_raw  float64\n",
            " 4   smart_197_raw  float64\n",
            " 5   smart_198_raw  float64\n",
            "dtypes: float64(5), int64(1)\n",
            "memory usage: 653.6 MB\n"
          ],
          "name": "stdout"
        }
      ]
    },
    {
      "cell_type": "code",
      "metadata": {
        "id": "T8QlDPfIkoVU",
        "outputId": "045d726a-9a68-41b0-e64f-f44b2ba6c623"
      },
      "source": [
        "df['failure'].unique()"
      ],
      "execution_count": null,
      "outputs": [
        {
          "output_type": "execute_result",
          "data": {
            "text/plain": [
              "array([0, 1], dtype=int64)"
            ]
          },
          "metadata": {
            "tags": []
          },
          "execution_count": 101
        }
      ]
    },
    {
      "cell_type": "code",
      "metadata": {
        "id": "ig5GOEoskoVV",
        "outputId": "f17670e1-e05e-4f7a-9d5e-127934843844"
      },
      "source": [
        "np.any(np.isnan(df))"
      ],
      "execution_count": null,
      "outputs": [
        {
          "output_type": "execute_result",
          "data": {
            "text/plain": [
              "True"
            ]
          },
          "metadata": {
            "tags": []
          },
          "execution_count": 102
        }
      ]
    },
    {
      "cell_type": "code",
      "metadata": {
        "id": "FYD0Gmd_koVV",
        "outputId": "b8372261-0fae-40eb-8f5a-c3f85160ac90"
      },
      "source": [
        "np.any(np.isnan(df))"
      ],
      "execution_count": null,
      "outputs": [
        {
          "output_type": "execute_result",
          "data": {
            "text/plain": [
              "True"
            ]
          },
          "metadata": {
            "tags": []
          },
          "execution_count": 103
        }
      ]
    },
    {
      "cell_type": "code",
      "metadata": {
        "id": "e_b2YFZ5koVW",
        "outputId": "f3b48ff4-fec9-49c6-a258-61250db5b2c7"
      },
      "source": [
        "print(\"Columnwise total missing value\\n\",df.isnull().sum())"
      ],
      "execution_count": null,
      "outputs": [
        {
          "output_type": "stream",
          "text": [
            "Columnwise total missing value\n",
            " smart_5_raw      202\n",
            "smart_187_raw    202\n",
            "smart_188_raw    202\n",
            "smart_197_raw    202\n",
            "smart_198_raw    202\n",
            "failure            0\n",
            "dtype: int64\n"
          ],
          "name": "stdout"
        }
      ]
    },
    {
      "cell_type": "code",
      "metadata": {
        "id": "NgI96y0nkoVW",
        "outputId": "af1b0b39-70d4-49cb-e210-ba58b548f47b"
      },
      "source": [
        "# Missing percentage\n",
        "df.isnull().sum() / df.shape[0] * 100.00"
      ],
      "execution_count": null,
      "outputs": [
        {
          "output_type": "execute_result",
          "data": {
            "text/plain": [
              "smart_5_raw      0.001651\n",
              "smart_187_raw    0.001651\n",
              "smart_188_raw    0.001651\n",
              "smart_197_raw    0.001651\n",
              "smart_198_raw    0.001651\n",
              "failure          0.000000\n",
              "dtype: float64"
            ]
          },
          "metadata": {
            "tags": []
          },
          "execution_count": 105
        }
      ]
    },
    {
      "cell_type": "code",
      "metadata": {
        "id": "N4ek3RjckoVX"
      },
      "source": [
        "df=df.dropna()"
      ],
      "execution_count": null,
      "outputs": []
    },
    {
      "cell_type": "code",
      "metadata": {
        "id": "XZhnTu4fkoVY",
        "outputId": "009aa674-0ef5-465f-8560-27f74e3a6e6d"
      },
      "source": [
        "# Missing percentage\n",
        "df.isnull().sum() / df.shape[0] * 100.00"
      ],
      "execution_count": null,
      "outputs": [
        {
          "output_type": "execute_result",
          "data": {
            "text/plain": [
              "smart_5_raw      0.0\n",
              "smart_187_raw    0.0\n",
              "smart_188_raw    0.0\n",
              "smart_197_raw    0.0\n",
              "smart_198_raw    0.0\n",
              "failure          0.0\n",
              "dtype: float64"
            ]
          },
          "metadata": {
            "tags": []
          },
          "execution_count": 107
        }
      ]
    },
    {
      "cell_type": "code",
      "metadata": {
        "id": "GY7r8QROkoVZ",
        "outputId": "4f9628d1-10b1-431e-a2f0-b49dc4c1a77f"
      },
      "source": [
        "np.all(np.isfinite(df))"
      ],
      "execution_count": null,
      "outputs": [
        {
          "output_type": "execute_result",
          "data": {
            "text/plain": [
              "True"
            ]
          },
          "metadata": {
            "tags": []
          },
          "execution_count": 108
        }
      ]
    },
    {
      "cell_type": "code",
      "metadata": {
        "id": "R9IDPN86koVZ",
        "outputId": "aaeced59-8d1f-4bdf-8ff4-a725e72cd136"
      },
      "source": [
        "np.finfo(np.float64).max"
      ],
      "execution_count": null,
      "outputs": [
        {
          "output_type": "execute_result",
          "data": {
            "text/plain": [
              "1.7976931348623157e+308"
            ]
          },
          "metadata": {
            "tags": []
          },
          "execution_count": 72
        }
      ]
    },
    {
      "cell_type": "code",
      "metadata": {
        "id": "IRJTWReKkoVa"
      },
      "source": [
        "X = df.iloc[:,:-1]\n",
        "y = df['failure'] # BP_df_cp.iloc[:,-1:]"
      ],
      "execution_count": null,
      "outputs": []
    },
    {
      "cell_type": "code",
      "metadata": {
        "id": "57PE9DPFkoVa",
        "outputId": "71c74fd6-2944-47d0-dcfa-34747794e291"
      },
      "source": [
        "sns.countplot(Y,label=\"failure\")\n",
        "plt.show()"
      ],
      "execution_count": null,
      "outputs": [
        {
          "output_type": "stream",
          "text": [
            "C:\\ProgramData\\Anaconda3\\lib\\site-packages\\seaborn\\_decorators.py:36: FutureWarning: Pass the following variable as a keyword arg: x. From version 0.12, the only valid positional argument will be `data`, and passing other arguments without an explicit keyword will result in an error or misinterpretation.\n",
            "  warnings.warn(\n"
          ],
          "name": "stderr"
        },
        {
          "output_type": "display_data",
          "data": {
            "image/png": "[encoded data removed]",
            "text/plain": [
              "<Figure size 432x288 with 1 Axes>"
            ]
          },
          "metadata": {
            "tags": [],
            "needs_background": "light"
          }
        }
      ]
    },
    {
      "cell_type": "code",
      "metadata": {
        "id": "yX8KUUCLkoVb",
        "outputId": "e0de2870-f913-45c3-897f-4b1d67de2678"
      },
      "source": [
        "neg, pos = np.bincount(df['failure'])\n",
        "total = neg + pos\n",
        "print('Examples:\\n    Total: {}\\n    Positive: {} ({:.2f}% of total)\\n'.format(\n",
        "    total, pos, 100 * pos / total))"
      ],
      "execution_count": null,
      "outputs": [
        {
          "output_type": "stream",
          "text": [
            "Examples:\n",
            "    Total: 12237697\n",
            "    Positive: 1061 (0.01% of total)\n",
            "\n"
          ],
          "name": "stdout"
        }
      ]
    },
    {
      "cell_type": "markdown",
      "metadata": {
        "id": "oOZ4wW3FmpIO"
      },
      "source": [
        "### Base models without re-sampling"
      ]
    },
    {
      "cell_type": "code",
      "metadata": {
        "id": "KTt-vnTikoVb"
      },
      "source": [
        "X_train, X_test, y_train, y_test = train_test_split(X,y,test_size=0.5)"
      ],
      "execution_count": null,
      "outputs": []
    },
    {
      "cell_type": "code",
      "metadata": {
        "id": "5Gj6JmjPkoVc",
        "outputId": "b31b53c4-df18-45b3-f4d7-a9445e90b5e9"
      },
      "source": [
        "LR = LogisticRegression()\n",
        "\n",
        "scoring = ['accuracy', 'precision_macro', 'recall_macro' , 'f1_weighted', 'roc_auc']\n",
        "scores = cross_validate(LR, X_train, y_train, scoring=scoring, cv=5)\n",
        "\n",
        "sorted(scores.keys())\n",
        "LR_fit_time = scores['fit_time'].mean()\n",
        "LR_score_time = scores['score_time'].mean()\n",
        "LR_accuracy = scores['test_accuracy'].mean()\n",
        "LR_precision = scores['test_precision_macro'].mean()\n",
        "LR_recall = scores['test_recall_macro'].mean()\n",
        "LR_f1 = scores['test_f1_weighted'].mean()\n",
        "LR_roc = scores['test_roc_auc'].mean()"
      ],
      "execution_count": null,
      "outputs": [
        {
          "output_type": "stream",
          "text": [
            "C:\\ProgramData\\Anaconda3\\lib\\site-packages\\sklearn\\linear_model\\_logistic.py:762: ConvergenceWarning: lbfgs failed to converge (status=1):\n",
            "STOP: TOTAL NO. of ITERATIONS REACHED LIMIT.\n",
            "\n",
            "Increase the number of iterations (max_iter) or scale the data as shown in:\n",
            "    https://scikit-learn.org/stable/modules/preprocessing.html\n",
            "Please also refer to the documentation for alternative solver options:\n",
            "    https://scikit-learn.org/stable/modules/linear_model.html#logistic-regression\n",
            "  n_iter_i = _check_optimize_result(\n",
            "C:\\ProgramData\\Anaconda3\\lib\\site-packages\\sklearn\\linear_model\\_logistic.py:762: ConvergenceWarning: lbfgs failed to converge (status=1):\n",
            "STOP: TOTAL NO. of ITERATIONS REACHED LIMIT.\n",
            "\n",
            "Increase the number of iterations (max_iter) or scale the data as shown in:\n",
            "    https://scikit-learn.org/stable/modules/preprocessing.html\n",
            "Please also refer to the documentation for alternative solver options:\n",
            "    https://scikit-learn.org/stable/modules/linear_model.html#logistic-regression\n",
            "  n_iter_i = _check_optimize_result(\n"
          ],
          "name": "stderr"
        }
      ]
    },
    {
      "cell_type": "code",
      "metadata": {
        "id": "u1wK2hmYkoVc"
      },
      "source": [
        "# Decision Tree\n",
        "decision_tree = DecisionTreeClassifier()\n",
        "\n",
        "scoring = ['accuracy', 'precision_macro', 'recall_macro' , 'f1_weighted', 'roc_auc']\n",
        "scores = cross_validate(decision_tree, X_train, y_train, scoring=scoring, cv=5)\n",
        "\n",
        "sorted(scores.keys())\n",
        "dtree_fit_time = scores['fit_time'].mean()\n",
        "dtree_score_time = scores['score_time'].mean()\n",
        "dtree_accuracy = scores['test_accuracy'].mean()\n",
        "dtree_precision = scores['test_precision_macro'].mean()\n",
        "dtree_recall = scores['test_recall_macro'].mean()\n",
        "dtree_f1 = scores['test_f1_weighted'].mean()\n",
        "dtree_roc = scores['test_roc_auc'].mean()"
      ],
      "execution_count": null,
      "outputs": []
    },
    {
      "cell_type": "code",
      "metadata": {
        "id": "xB4dlofFkoVc"
      },
      "source": [
        "# Linear Discriminant Analysis\n",
        "LDA = LinearDiscriminantAnalysis()\n",
        "\n",
        "scoring = ['accuracy', 'precision_macro', 'recall_macro' , 'f1_weighted', 'roc_auc']\n",
        "scores = cross_validate(LDA, X_train, y_train, scoring=scoring, cv=5)\n",
        "\n",
        "sorted(scores.keys())\n",
        "LDA_fit_time = scores['fit_time'].mean()\n",
        "LDA_score_time = scores['score_time'].mean()\n",
        "LDA_accuracy = scores['test_accuracy'].mean()\n",
        "LDA_precision = scores['test_precision_macro'].mean()\n",
        "LDA_recall = scores['test_recall_macro'].mean()\n",
        "LDA_f1 = scores['test_f1_weighted'].mean()\n",
        "LDA_roc = scores['test_roc_auc'].mean()"
      ],
      "execution_count": null,
      "outputs": []
    },
    {
      "cell_type": "code",
      "metadata": {
        "id": "1WVnuiD5koVc",
        "outputId": "0dd371c0-3269-47c2-ecd6-54fc8a93a96a"
      },
      "source": [
        "# Quadratic Discriminant Analysis\n",
        "QDA = QuadraticDiscriminantAnalysis()\n",
        "\n",
        "scoring = ['accuracy', 'precision_macro', 'recall_macro' , 'f1_weighted', 'roc_auc']\n",
        "scores = cross_validate(QDA, X_train, y_train, scoring=scoring, cv=5)\n",
        "\n",
        "sorted(scores.keys())\n",
        "QDA_fit_time = scores['fit_time'].mean()\n",
        "QDA_score_time = scores['score_time'].mean()\n",
        "QDA_accuracy = scores['test_accuracy'].mean()\n",
        "QDA_precision = scores['test_precision_macro'].mean()\n",
        "QDA_recall = scores['test_recall_macro'].mean()\n",
        "QDA_f1 = scores['test_f1_weighted'].mean()\n",
        "QDA_roc = scores['test_roc_auc'].mean()"
      ],
      "execution_count": null,
      "outputs": [
        {
          "output_type": "stream",
          "text": [
            "C:\\ProgramData\\Anaconda3\\lib\\site-packages\\sklearn\\discriminant_analysis.py:715: UserWarning: Variables are collinear\n",
            "  warnings.warn(\"Variables are collinear\")\n",
            "C:\\ProgramData\\Anaconda3\\lib\\site-packages\\sklearn\\discriminant_analysis.py:715: UserWarning: Variables are collinear\n",
            "  warnings.warn(\"Variables are collinear\")\n",
            "C:\\ProgramData\\Anaconda3\\lib\\site-packages\\sklearn\\discriminant_analysis.py:715: UserWarning: Variables are collinear\n",
            "  warnings.warn(\"Variables are collinear\")\n",
            "C:\\ProgramData\\Anaconda3\\lib\\site-packages\\sklearn\\discriminant_analysis.py:715: UserWarning: Variables are collinear\n",
            "  warnings.warn(\"Variables are collinear\")\n",
            "C:\\ProgramData\\Anaconda3\\lib\\site-packages\\sklearn\\discriminant_analysis.py:715: UserWarning: Variables are collinear\n",
            "  warnings.warn(\"Variables are collinear\")\n"
          ],
          "name": "stderr"
        }
      ]
    },
    {
      "cell_type": "code",
      "metadata": {
        "id": "mp1W_V8-koVd"
      },
      "source": [
        "# Random Forest Classifier\n",
        "random_forest = RandomForestClassifier()\n",
        "\n",
        "scoring = ['accuracy', 'precision_macro', 'recall_macro' , 'f1_weighted', 'roc_auc']\n",
        "scores = cross_validate(random_forest, X_train, y_train, scoring=scoring, cv=5)\n",
        "\n",
        "sorted(scores.keys())\n",
        "forest_fit_time = scores['fit_time'].mean()\n",
        "forest_score_time = scores['score_time'].mean()\n",
        "forest_accuracy = scores['test_accuracy'].mean()\n",
        "forest_precision = scores['test_precision_macro'].mean()\n",
        "forest_recall = scores['test_recall_macro'].mean()\n",
        "forest_f1 = scores['test_f1_weighted'].mean()\n",
        "forest_roc = scores['test_roc_auc'].mean()"
      ],
      "execution_count": null,
      "outputs": []
    },
    {
      "cell_type": "code",
      "metadata": {
        "id": "gOKY1VDmkoVd"
      },
      "source": [
        "# Naive Bayes\n",
        "bayes = GaussianNB()\n",
        "\n",
        "scoring = ['accuracy', 'precision_macro', 'recall_macro' , 'f1_weighted', 'roc_auc']\n",
        "scores = cross_validate(bayes, X_train, y_train, scoring=scoring, cv=5)\n",
        "\n",
        "sorted(scores.keys())\n",
        "bayes_fit_time = scores['fit_time'].mean()\n",
        "bayes_score_time = scores['score_time'].mean()\n",
        "bayes_accuracy = scores['test_accuracy'].mean()\n",
        "bayes_precision = scores['test_precision_macro'].mean()\n",
        "bayes_recall = scores['test_recall_macro'].mean()\n",
        "bayes_f1 = scores['test_f1_weighted'].mean()\n",
        "bayes_roc = scores['test_roc_auc'].mean()"
      ],
      "execution_count": null,
      "outputs": []
    },
    {
      "cell_type": "code",
      "metadata": {
        "id": "jWKWlUXzkoVd",
        "outputId": "be15f7ea-efb8-41d0-eee5-5e8f64a5aa7e"
      },
      "source": [
        "models_initial = pd.DataFrame({\n",
        "    'Model'       : ['Logistic Regression', 'Decision Tree', 'Linear Discriminant Analysis', 'Quadratic Discriminant Analysis', 'Random Forest', 'Bayes'],\n",
        "    'Fitting time': [LR_fit_time, dtree_fit_time, LDA_fit_time, QDA_fit_time, forest_fit_time, bayes_fit_time],\n",
        "    'Scoring time': [LR_score_time, dtree_score_time, LDA_score_time, QDA_score_time, forest_score_time, bayes_score_time],\n",
        "    'Accuracy'    : [LR_accuracy, dtree_accuracy, LDA_accuracy, QDA_accuracy, forest_accuracy, bayes_accuracy],\n",
        "    'Precision'   : [LR_precision, dtree_precision, LDA_precision, QDA_precision, forest_precision, bayes_precision],\n",
        "    'Recall'      : [LR_recall, dtree_recall, LDA_recall, QDA_recall, forest_recall, bayes_recall],\n",
        "    'F1_score'    : [LR_f1, dtree_f1, LDA_f1, QDA_f1, forest_f1, bayes_f1],\n",
        "    'AUC_ROC'     : [LR_roc, dtree_roc, LDA_roc, QDA_roc, forest_roc, bayes_roc],\n",
        "    }, columns = ['Model', 'Fitting time', 'Scoring time', 'Accuracy', 'Precision', 'Recall', 'F1_score', 'AUC_ROC'])\n",
        "\n",
        "models_initial.sort_values(by='Accuracy', ascending=False)"
      ],
      "execution_count": null,
      "outputs": [
        {
          "output_type": "execute_result",
          "data": {
            "text/html": [
              "<div>\n",
              "<style scoped>\n",
              "    .dataframe tbody tr th:only-of-type {\n",
              "        vertical-align: middle;\n",
              "    }\n",
              "\n",
              "    .dataframe tbody tr th {\n",
              "        vertical-align: top;\n",
              "    }\n",
              "\n",
              "    .dataframe thead th {\n",
              "        text-align: right;\n",
              "    }\n",
              "</style>\n",
              "<table border=\"1\" class=\"dataframe\">\n",
              "  <thead>\n",
              "    <tr style=\"text-align: right;\">\n",
              "      <th></th>\n",
              "      <th>Model</th>\n",
              "      <th>Fitting time</th>\n",
              "      <th>Scoring time</th>\n",
              "      <th>Accuracy</th>\n",
              "      <th>Precision</th>\n",
              "      <th>Recall</th>\n",
              "      <th>F1_score</th>\n",
              "      <th>AUC_ROC</th>\n",
              "    </tr>\n",
              "  </thead>\n",
              "  <tbody>\n",
              "    <tr>\n",
              "      <th>0</th>\n",
              "      <td>Logistic Regression</td>\n",
              "      <td>63.587061</td>\n",
              "      <td>1.458813</td>\n",
              "      <td>0.999911</td>\n",
              "      <td>0.708520</td>\n",
              "      <td>0.518839</td>\n",
              "      <td>0.999875</td>\n",
              "      <td>0.797290</td>\n",
              "    </tr>\n",
              "    <tr>\n",
              "      <th>4</th>\n",
              "      <td>Random Forest</td>\n",
              "      <td>145.934832</td>\n",
              "      <td>17.775146</td>\n",
              "      <td>0.999910</td>\n",
              "      <td>0.669418</td>\n",
              "      <td>0.519791</td>\n",
              "      <td>0.999874</td>\n",
              "      <td>0.616804</td>\n",
              "    </tr>\n",
              "    <tr>\n",
              "      <th>1</th>\n",
              "      <td>Decision Tree</td>\n",
              "      <td>2.953686</td>\n",
              "      <td>1.623610</td>\n",
              "      <td>0.999909</td>\n",
              "      <td>0.674786</td>\n",
              "      <td>0.528253</td>\n",
              "      <td>0.999876</td>\n",
              "      <td>0.477693</td>\n",
              "    </tr>\n",
              "    <tr>\n",
              "      <th>2</th>\n",
              "      <td>Linear Discriminant Analysis</td>\n",
              "      <td>3.757386</td>\n",
              "      <td>1.556169</td>\n",
              "      <td>0.998893</td>\n",
              "      <td>0.512718</td>\n",
              "      <td>0.640802</td>\n",
              "      <td>0.999363</td>\n",
              "      <td>0.804645</td>\n",
              "    </tr>\n",
              "    <tr>\n",
              "      <th>5</th>\n",
              "      <td>Bayes</td>\n",
              "      <td>1.220925</td>\n",
              "      <td>1.998990</td>\n",
              "      <td>0.994507</td>\n",
              "      <td>0.503780</td>\n",
              "      <td>0.736493</td>\n",
              "      <td>0.997161</td>\n",
              "      <td>0.804599</td>\n",
              "    </tr>\n",
              "    <tr>\n",
              "      <th>3</th>\n",
              "      <td>Quadratic Discriminant Analysis</td>\n",
              "      <td>1.415452</td>\n",
              "      <td>2.012822</td>\n",
              "      <td>0.992103</td>\n",
              "      <td>0.502806</td>\n",
              "      <td>0.744671</td>\n",
              "      <td>0.995950</td>\n",
              "      <td>0.804801</td>\n",
              "    </tr>\n",
              "  </tbody>\n",
              "</table>\n",
              "</div>"
            ],
            "text/plain": [
              "                             Model  Fitting time  Scoring time  Accuracy  \\\n",
              "0              Logistic Regression     63.587061      1.458813  0.999911   \n",
              "4                    Random Forest    145.934832     17.775146  0.999910   \n",
              "1                    Decision Tree      2.953686      1.623610  0.999909   \n",
              "2     Linear Discriminant Analysis      3.757386      1.556169  0.998893   \n",
              "5                            Bayes      1.220925      1.998990  0.994507   \n",
              "3  Quadratic Discriminant Analysis      1.415452      2.012822  0.992103   \n",
              "\n",
              "   Precision    Recall  F1_score   AUC_ROC  \n",
              "0   0.708520  0.518839  0.999875  0.797290  \n",
              "4   0.669418  0.519791  0.999874  0.616804  \n",
              "1   0.674786  0.528253  0.999876  0.477693  \n",
              "2   0.512718  0.640802  0.999363  0.804645  \n",
              "5   0.503780  0.736493  0.997161  0.804599  \n",
              "3   0.502806  0.744671  0.995950  0.804801  "
            ]
          },
          "metadata": {
            "tags": []
          },
          "execution_count": 119
        }
      ]
    },
    {
      "cell_type": "code",
      "metadata": {
        "id": "t6T96d01koVe",
        "outputId": "771df5cc-e75a-4a7f-c3a5-1fd945f203c2"
      },
      "source": [
        "model = RandomForestClassifier()\n",
        "model.fit(X_train, y_train)\n",
        "yPred = model.predict(X_test)\n",
        "print(\"Full model F1 score for test data: \", f1_score(yPred,y_test))\n"
      ],
      "execution_count": null,
      "outputs": [
        {
          "output_type": "stream",
          "text": [
            "Full model F1 score for test data:  0.08798646362098139\n"
          ],
          "name": "stdout"
        }
      ]
    },
    {
      "cell_type": "markdown",
      "metadata": {
        "id": "dBglPby-koVg"
      },
      "source": [
        "## Cost sensitive Random Forest "
      ]
    },
    {
      "cell_type": "code",
      "metadata": {
        "id": "yEmgid2gkoVg",
        "outputId": "8bd5c51b-b6f7-4aa8-c7c3-b0a541463f74"
      },
      "source": [
        "\n",
        "# class balanced random forest for imbalanced classification\n",
        "from numpy import mean\n",
        "from sklearn.datasets import make_classification\n",
        "from sklearn.model_selection import cross_val_score\n",
        "from sklearn.model_selection import RepeatedStratifiedKFold\n",
        "from sklearn.ensemble import RandomForestClassifier\n",
        "\n",
        "# define model\n",
        "model = RandomForestClassifier(n_estimators=10, class_weight='balanced')\n",
        "# define evaluation procedure\n",
        "cv = RepeatedStratifiedKFold(n_splits=10, n_repeats=3, random_state=1)\n",
        "# evaluate model\n",
        "scores = cross_val_score(model, X, Y, scoring='f1', cv=cv, n_jobs=-1)\n",
        "# summarize performance\n",
        "print('Mean F1 score: %.3f' % mean(scores))"
      ],
      "execution_count": null,
      "outputs": [
        {
          "output_type": "stream",
          "text": [
            "Mean F1 score: 0.004\n"
          ],
          "name": "stdout"
        }
      ]
    },
    {
      "cell_type": "markdown",
      "metadata": {
        "id": "4T6mM_BkkoVe"
      },
      "source": [
        "##  Cost-Sensitive Neural Network "
      ]
    },
    {
      "cell_type": "code",
      "metadata": {
        "id": "qm_Yw-AokoVf",
        "outputId": "1b12ac69-fb23-4178-ae13-c655ada20642"
      },
      "source": [
        "#X_train, X_test, y_train, y_test\n",
        " \n",
        "# define the neural network model\n",
        "def define_model(n_input):\n",
        "# define model\n",
        "    model = Sequential()\n",
        "# define first hidden layer and visible layer\n",
        "    model.add(Dense(10, input_dim=n_input, activation='relu', kernel_initializer='he_uniform'))\n",
        "# define output layer\n",
        "    model.add(Dense(1, activation='sigmoid'))\n",
        "# define loss and optimizer\n",
        "    model.compile(loss='binary_crossentropy', optimizer='sgd')\n",
        "    return model\n",
        " \n",
        "# get the model\n",
        "n_input = X_train.shape[1]\n",
        "model = define_model(n_input)\n",
        "# fit model\n",
        "weights = {0:1, 1:100}\n",
        "history = model.fit(X_train,  y_train, class_weight=weights, epochs=100, verbose=0)\n",
        "# evaluate model\n",
        "yhat = model.predict(X_test)\n",
        "score = f1_score(y_test, yhat)\n",
        "print('F1: %.3f' % score)"
      ],
      "execution_count": null,
      "outputs": [
        {
          "output_type": "error",
          "ename": "KeyboardInterrupt",
          "evalue": "",
          "traceback": [
            "\u001b[1;31m---------------------------------------------------------------------------\u001b[0m",
            "\u001b[1;31mKeyboardInterrupt\u001b[0m                         Traceback (most recent call last)",
            "\u001b[1;32m<ipython-input-127-ebee970572a6>\u001b[0m in \u001b[0;36m<module>\u001b[1;34m\u001b[0m\n\u001b[0;32m     18\u001b[0m \u001b[1;31m# fit model\u001b[0m\u001b[1;33m\u001b[0m\u001b[1;33m\u001b[0m\u001b[1;33m\u001b[0m\u001b[0m\n\u001b[0;32m     19\u001b[0m \u001b[0mweights\u001b[0m \u001b[1;33m=\u001b[0m \u001b[1;33m{\u001b[0m\u001b[1;36m0\u001b[0m\u001b[1;33m:\u001b[0m\u001b[1;36m1\u001b[0m\u001b[1;33m,\u001b[0m \u001b[1;36m1\u001b[0m\u001b[1;33m:\u001b[0m\u001b[1;36m100\u001b[0m\u001b[1;33m}\u001b[0m\u001b[1;33m\u001b[0m\u001b[1;33m\u001b[0m\u001b[0m\n\u001b[1;32m---> 20\u001b[1;33m \u001b[0mhistory\u001b[0m \u001b[1;33m=\u001b[0m \u001b[0mmodel\u001b[0m\u001b[1;33m.\u001b[0m\u001b[0mfit\u001b[0m\u001b[1;33m(\u001b[0m\u001b[0mX_train\u001b[0m\u001b[1;33m,\u001b[0m  \u001b[0my_train\u001b[0m\u001b[1;33m,\u001b[0m \u001b[0mclass_weight\u001b[0m\u001b[1;33m=\u001b[0m\u001b[0mweights\u001b[0m\u001b[1;33m,\u001b[0m \u001b[0mepochs\u001b[0m\u001b[1;33m=\u001b[0m\u001b[1;36m100\u001b[0m\u001b[1;33m,\u001b[0m \u001b[0mverbose\u001b[0m\u001b[1;33m=\u001b[0m\u001b[1;36m0\u001b[0m\u001b[1;33m)\u001b[0m\u001b[1;33m\u001b[0m\u001b[1;33m\u001b[0m\u001b[0m\n\u001b[0m\u001b[0;32m     21\u001b[0m \u001b[1;31m# evaluate model\u001b[0m\u001b[1;33m\u001b[0m\u001b[1;33m\u001b[0m\u001b[1;33m\u001b[0m\u001b[0m\n\u001b[0;32m     22\u001b[0m \u001b[0myhat\u001b[0m \u001b[1;33m=\u001b[0m \u001b[0mmodel\u001b[0m\u001b[1;33m.\u001b[0m\u001b[0mpredict\u001b[0m\u001b[1;33m(\u001b[0m\u001b[0mX_test\u001b[0m\u001b[1;33m)\u001b[0m\u001b[1;33m\u001b[0m\u001b[1;33m\u001b[0m\u001b[0m\n",
            "\u001b[1;32mC:\\ProgramData\\Anaconda3\\lib\\site-packages\\tensorflow\\python\\keras\\engine\\training.py\u001b[0m in \u001b[0;36mfit\u001b[1;34m(self, x, y, batch_size, epochs, verbose, callbacks, validation_split, validation_data, shuffle, class_weight, sample_weight, initial_epoch, steps_per_epoch, validation_steps, validation_batch_size, validation_freq, max_queue_size, workers, use_multiprocessing)\u001b[0m\n\u001b[0;32m   1098\u001b[0m                 _r=1):\n\u001b[0;32m   1099\u001b[0m               \u001b[0mcallbacks\u001b[0m\u001b[1;33m.\u001b[0m\u001b[0mon_train_batch_begin\u001b[0m\u001b[1;33m(\u001b[0m\u001b[0mstep\u001b[0m\u001b[1;33m)\u001b[0m\u001b[1;33m\u001b[0m\u001b[1;33m\u001b[0m\u001b[0m\n\u001b[1;32m-> 1100\u001b[1;33m               \u001b[0mtmp_logs\u001b[0m \u001b[1;33m=\u001b[0m \u001b[0mself\u001b[0m\u001b[1;33m.\u001b[0m\u001b[0mtrain_function\u001b[0m\u001b[1;33m(\u001b[0m\u001b[0miterator\u001b[0m\u001b[1;33m)\u001b[0m\u001b[1;33m\u001b[0m\u001b[1;33m\u001b[0m\u001b[0m\n\u001b[0m\u001b[0;32m   1101\u001b[0m               \u001b[1;32mif\u001b[0m \u001b[0mdata_handler\u001b[0m\u001b[1;33m.\u001b[0m\u001b[0mshould_sync\u001b[0m\u001b[1;33m:\u001b[0m\u001b[1;33m\u001b[0m\u001b[1;33m\u001b[0m\u001b[0m\n\u001b[0;32m   1102\u001b[0m                 \u001b[0mcontext\u001b[0m\u001b[1;33m.\u001b[0m\u001b[0masync_wait\u001b[0m\u001b[1;33m(\u001b[0m\u001b[1;33m)\u001b[0m\u001b[1;33m\u001b[0m\u001b[1;33m\u001b[0m\u001b[0m\n",
            "\u001b[1;32mC:\\ProgramData\\Anaconda3\\lib\\site-packages\\tensorflow\\python\\eager\\def_function.py\u001b[0m in \u001b[0;36m__call__\u001b[1;34m(self, *args, **kwds)\u001b[0m\n\u001b[0;32m    826\u001b[0m     \u001b[0mtracing_count\u001b[0m \u001b[1;33m=\u001b[0m \u001b[0mself\u001b[0m\u001b[1;33m.\u001b[0m\u001b[0mexperimental_get_tracing_count\u001b[0m\u001b[1;33m(\u001b[0m\u001b[1;33m)\u001b[0m\u001b[1;33m\u001b[0m\u001b[1;33m\u001b[0m\u001b[0m\n\u001b[0;32m    827\u001b[0m     \u001b[1;32mwith\u001b[0m \u001b[0mtrace\u001b[0m\u001b[1;33m.\u001b[0m\u001b[0mTrace\u001b[0m\u001b[1;33m(\u001b[0m\u001b[0mself\u001b[0m\u001b[1;33m.\u001b[0m\u001b[0m_name\u001b[0m\u001b[1;33m)\u001b[0m \u001b[1;32mas\u001b[0m \u001b[0mtm\u001b[0m\u001b[1;33m:\u001b[0m\u001b[1;33m\u001b[0m\u001b[1;33m\u001b[0m\u001b[0m\n\u001b[1;32m--> 828\u001b[1;33m       \u001b[0mresult\u001b[0m \u001b[1;33m=\u001b[0m \u001b[0mself\u001b[0m\u001b[1;33m.\u001b[0m\u001b[0m_call\u001b[0m\u001b[1;33m(\u001b[0m\u001b[1;33m*\u001b[0m\u001b[0margs\u001b[0m\u001b[1;33m,\u001b[0m \u001b[1;33m**\u001b[0m\u001b[0mkwds\u001b[0m\u001b[1;33m)\u001b[0m\u001b[1;33m\u001b[0m\u001b[1;33m\u001b[0m\u001b[0m\n\u001b[0m\u001b[0;32m    829\u001b[0m       \u001b[0mcompiler\u001b[0m \u001b[1;33m=\u001b[0m \u001b[1;34m\"xla\"\u001b[0m \u001b[1;32mif\u001b[0m \u001b[0mself\u001b[0m\u001b[1;33m.\u001b[0m\u001b[0m_experimental_compile\u001b[0m \u001b[1;32melse\u001b[0m \u001b[1;34m\"nonXla\"\u001b[0m\u001b[1;33m\u001b[0m\u001b[1;33m\u001b[0m\u001b[0m\n\u001b[0;32m    830\u001b[0m       \u001b[0mnew_tracing_count\u001b[0m \u001b[1;33m=\u001b[0m \u001b[0mself\u001b[0m\u001b[1;33m.\u001b[0m\u001b[0mexperimental_get_tracing_count\u001b[0m\u001b[1;33m(\u001b[0m\u001b[1;33m)\u001b[0m\u001b[1;33m\u001b[0m\u001b[1;33m\u001b[0m\u001b[0m\n",
            "\u001b[1;32mC:\\ProgramData\\Anaconda3\\lib\\site-packages\\tensorflow\\python\\eager\\def_function.py\u001b[0m in \u001b[0;36m_call\u001b[1;34m(self, *args, **kwds)\u001b[0m\n\u001b[0;32m    853\u001b[0m       \u001b[1;31m# In this case we have created variables on the first call, so we run the\u001b[0m\u001b[1;33m\u001b[0m\u001b[1;33m\u001b[0m\u001b[1;33m\u001b[0m\u001b[0m\n\u001b[0;32m    854\u001b[0m       \u001b[1;31m# defunned version which is guaranteed to never create variables.\u001b[0m\u001b[1;33m\u001b[0m\u001b[1;33m\u001b[0m\u001b[1;33m\u001b[0m\u001b[0m\n\u001b[1;32m--> 855\u001b[1;33m       \u001b[1;32mreturn\u001b[0m \u001b[0mself\u001b[0m\u001b[1;33m.\u001b[0m\u001b[0m_stateless_fn\u001b[0m\u001b[1;33m(\u001b[0m\u001b[1;33m*\u001b[0m\u001b[0margs\u001b[0m\u001b[1;33m,\u001b[0m \u001b[1;33m**\u001b[0m\u001b[0mkwds\u001b[0m\u001b[1;33m)\u001b[0m  \u001b[1;31m# pylint: disable=not-callable\u001b[0m\u001b[1;33m\u001b[0m\u001b[1;33m\u001b[0m\u001b[0m\n\u001b[0m\u001b[0;32m    856\u001b[0m     \u001b[1;32melif\u001b[0m \u001b[0mself\u001b[0m\u001b[1;33m.\u001b[0m\u001b[0m_stateful_fn\u001b[0m \u001b[1;32mis\u001b[0m \u001b[1;32mnot\u001b[0m \u001b[1;32mNone\u001b[0m\u001b[1;33m:\u001b[0m\u001b[1;33m\u001b[0m\u001b[1;33m\u001b[0m\u001b[0m\n\u001b[0;32m    857\u001b[0m       \u001b[1;31m# Release the lock early so that multiple threads can perform the call\u001b[0m\u001b[1;33m\u001b[0m\u001b[1;33m\u001b[0m\u001b[1;33m\u001b[0m\u001b[0m\n",
            "\u001b[1;32mC:\\ProgramData\\Anaconda3\\lib\\site-packages\\tensorflow\\python\\eager\\function.py\u001b[0m in \u001b[0;36m__call__\u001b[1;34m(self, *args, **kwargs)\u001b[0m\n\u001b[0;32m   2940\u001b[0m       (graph_function,\n\u001b[0;32m   2941\u001b[0m        filtered_flat_args) = self._maybe_define_function(args, kwargs)\n\u001b[1;32m-> 2942\u001b[1;33m     return graph_function._call_flat(\n\u001b[0m\u001b[0;32m   2943\u001b[0m         filtered_flat_args, captured_inputs=graph_function.captured_inputs)  # pylint: disable=protected-access\n\u001b[0;32m   2944\u001b[0m \u001b[1;33m\u001b[0m\u001b[0m\n",
            "\u001b[1;32mC:\\ProgramData\\Anaconda3\\lib\\site-packages\\tensorflow\\python\\eager\\function.py\u001b[0m in \u001b[0;36m_call_flat\u001b[1;34m(self, args, captured_inputs, cancellation_manager)\u001b[0m\n\u001b[0;32m   1916\u001b[0m         and executing_eagerly):\n\u001b[0;32m   1917\u001b[0m       \u001b[1;31m# No tape is watching; skip to running the function.\u001b[0m\u001b[1;33m\u001b[0m\u001b[1;33m\u001b[0m\u001b[1;33m\u001b[0m\u001b[0m\n\u001b[1;32m-> 1918\u001b[1;33m       return self._build_call_outputs(self._inference_function.call(\n\u001b[0m\u001b[0;32m   1919\u001b[0m           ctx, args, cancellation_manager=cancellation_manager))\n\u001b[0;32m   1920\u001b[0m     forward_backward = self._select_forward_and_backward_functions(\n",
            "\u001b[1;32mC:\\ProgramData\\Anaconda3\\lib\\site-packages\\tensorflow\\python\\eager\\function.py\u001b[0m in \u001b[0;36mcall\u001b[1;34m(self, ctx, args, cancellation_manager)\u001b[0m\n\u001b[0;32m    553\u001b[0m       \u001b[1;32mwith\u001b[0m \u001b[0m_InterpolateFunctionError\u001b[0m\u001b[1;33m(\u001b[0m\u001b[0mself\u001b[0m\u001b[1;33m)\u001b[0m\u001b[1;33m:\u001b[0m\u001b[1;33m\u001b[0m\u001b[1;33m\u001b[0m\u001b[0m\n\u001b[0;32m    554\u001b[0m         \u001b[1;32mif\u001b[0m \u001b[0mcancellation_manager\u001b[0m \u001b[1;32mis\u001b[0m \u001b[1;32mNone\u001b[0m\u001b[1;33m:\u001b[0m\u001b[1;33m\u001b[0m\u001b[1;33m\u001b[0m\u001b[0m\n\u001b[1;32m--> 555\u001b[1;33m           outputs = execute.execute(\n\u001b[0m\u001b[0;32m    556\u001b[0m               \u001b[0mstr\u001b[0m\u001b[1;33m(\u001b[0m\u001b[0mself\u001b[0m\u001b[1;33m.\u001b[0m\u001b[0msignature\u001b[0m\u001b[1;33m.\u001b[0m\u001b[0mname\u001b[0m\u001b[1;33m)\u001b[0m\u001b[1;33m,\u001b[0m\u001b[1;33m\u001b[0m\u001b[1;33m\u001b[0m\u001b[0m\n\u001b[0;32m    557\u001b[0m               \u001b[0mnum_outputs\u001b[0m\u001b[1;33m=\u001b[0m\u001b[0mself\u001b[0m\u001b[1;33m.\u001b[0m\u001b[0m_num_outputs\u001b[0m\u001b[1;33m,\u001b[0m\u001b[1;33m\u001b[0m\u001b[1;33m\u001b[0m\u001b[0m\n",
            "\u001b[1;32mC:\\ProgramData\\Anaconda3\\lib\\site-packages\\tensorflow\\python\\eager\\execute.py\u001b[0m in \u001b[0;36mquick_execute\u001b[1;34m(op_name, num_outputs, inputs, attrs, ctx, name)\u001b[0m\n\u001b[0;32m     57\u001b[0m   \u001b[1;32mtry\u001b[0m\u001b[1;33m:\u001b[0m\u001b[1;33m\u001b[0m\u001b[1;33m\u001b[0m\u001b[0m\n\u001b[0;32m     58\u001b[0m     \u001b[0mctx\u001b[0m\u001b[1;33m.\u001b[0m\u001b[0mensure_initialized\u001b[0m\u001b[1;33m(\u001b[0m\u001b[1;33m)\u001b[0m\u001b[1;33m\u001b[0m\u001b[1;33m\u001b[0m\u001b[0m\n\u001b[1;32m---> 59\u001b[1;33m     tensors = pywrap_tfe.TFE_Py_Execute(ctx._handle, device_name, op_name,\n\u001b[0m\u001b[0;32m     60\u001b[0m                                         inputs, attrs, num_outputs)\n\u001b[0;32m     61\u001b[0m   \u001b[1;32mexcept\u001b[0m \u001b[0mcore\u001b[0m\u001b[1;33m.\u001b[0m\u001b[0m_NotOkStatusException\u001b[0m \u001b[1;32mas\u001b[0m \u001b[0me\u001b[0m\u001b[1;33m:\u001b[0m\u001b[1;33m\u001b[0m\u001b[1;33m\u001b[0m\u001b[0m\n",
            "\u001b[1;31mKeyboardInterrupt\u001b[0m: "
          ]
        }
      ]
    },
    {
      "cell_type": "code",
      "metadata": {
        "id": "qVMsOE2vkoVh"
      },
      "source": [
        ""
      ],
      "execution_count": null,
      "outputs": []
    }
  ]
}